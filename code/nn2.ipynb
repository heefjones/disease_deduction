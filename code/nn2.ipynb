{
 "cells": [
  {
   "cell_type": "markdown",
   "id": "d1202f84",
   "metadata": {},
   "source": [
    "# Load in data"
   ]
  },
  {
   "cell_type": "code",
   "execution_count": 1,
   "id": "c9631f17",
   "metadata": {
    "ExecuteTime": {
     "end_time": "2023-10-25T20:14:49.160957Z",
     "start_time": "2023-10-25T20:14:44.924471Z"
    }
   },
   "outputs": [],
   "source": [
    "import pandas as pd\n",
    "import numpy as np\n",
    "\n",
    "import nltk\n",
    "from sklearn.feature_extraction.text import TfidfVectorizer, CountVectorizer, HashingVectorizer\n",
    "\n",
    "import matplotlib.pyplot as plt\n",
    "import seaborn as sns\n",
    "\n",
    "# sklearn\n",
    "from sklearn.model_selection import train_test_split, GridSearchCV\n",
    "from sklearn.metrics import log_loss, accuracy_score\n",
    "from sklearn.compose import ColumnTransformer\n",
    "from sklearn.pipeline import Pipeline\n",
    "from sklearn.metrics import ConfusionMatrixDisplay, classification_report\n",
    "from sklearn.decomposition import TruncatedSVD\n",
    "from sklearn.ensemble import StackingClassifier, RandomForestClassifier\n",
    "from sklearn.linear_model import LogisticRegression\n",
    "from sklearn.neighbors import KNeighborsClassifier\n",
    "from sklearn.tree import DecisionTreeClassifier\n",
    "from sklearn.naive_bayes import MultinomialNB\n",
    "\n",
    "from xgboost import XGBClassifier\n",
    "\n",
    "# tensorflow\n",
    "from tensorflow.keras.models import Sequential\n",
    "from tensorflow.keras.layers import Input, Dense, Dropout, BatchNormalization\n",
    "from tensorflow.keras.regularizers import L2\n",
    "from tensorflow.keras.activations import relu, sigmoid\n",
    "from tensorflow.keras.optimizers import SGD, Adam\n",
    "from tensorflow.keras.losses import categorical_crossentropy\n",
    "from tensorflow.keras.wrappers import scikit_learn\n",
    "from tensorflow.keras.callbacks import EarlyStopping\n",
    "from tensorflow.keras.utils import to_categorical\n",
    "from tensorflow.keras import backend\n",
    "\n",
    "from scikeras.wrappers import KerasClassifier\n",
    "\n",
    "pd.set_option('display.max_columns', 100)"
   ]
  },
  {
   "cell_type": "code",
   "execution_count": 2,
   "id": "42999514",
   "metadata": {
    "ExecuteTime": {
     "end_time": "2023-10-25T20:14:49.224640Z",
     "start_time": "2023-10-25T20:14:49.162959Z"
    }
   },
   "outputs": [
    {
     "name": "stdout",
     "output_type": "stream",
     "text": [
      "Num GPUs Available:  0\n"
     ]
    }
   ],
   "source": [
    "# make sure GPU is available\n",
    "import tensorflow as tf\n",
    "print(\"Num GPUs Available: \", len(tf.config.experimental.list_physical_devices('GPU')))"
   ]
  },
  {
   "cell_type": "code",
   "execution_count": 3,
   "id": "610a5d0e",
   "metadata": {
    "ExecuteTime": {
     "end_time": "2023-10-25T20:14:49.240655Z",
     "start_time": "2023-10-25T20:14:49.226642Z"
    }
   },
   "outputs": [],
   "source": [
    "# memory management of GPU\n",
    "gpu = tf.config.experimental.list_physical_devices('GPU')\n",
    "if gpu:\n",
    "    try:\n",
    "        tf.config.experimental.set_memory_growth(gpu[0], True)\n",
    "    except RuntimeError as e:\n",
    "        print(e)"
   ]
  },
  {
   "cell_type": "code",
   "execution_count": 4,
   "id": "912ebf6a",
   "metadata": {
    "ExecuteTime": {
     "end_time": "2023-10-25T20:15:24.052217Z",
     "start_time": "2023-10-25T20:14:49.242657Z"
    },
    "scrolled": true
   },
   "outputs": [
    {
     "data": {
      "text/html": [
       "<div>\n",
       "<style scoped>\n",
       "    .dataframe tbody tr th:only-of-type {\n",
       "        vertical-align: middle;\n",
       "    }\n",
       "\n",
       "    .dataframe tbody tr th {\n",
       "        vertical-align: top;\n",
       "    }\n",
       "\n",
       "    .dataframe thead th {\n",
       "        text-align: right;\n",
       "    }\n",
       "</style>\n",
       "<table border=\"1\" class=\"dataframe\">\n",
       "  <thead>\n",
       "    <tr style=\"text-align: right;\">\n",
       "      <th></th>\n",
       "      <th>cleaned</th>\n",
       "      <th>class</th>\n",
       "      <th>words</th>\n",
       "    </tr>\n",
       "  </thead>\n",
       "  <tbody>\n",
       "    <tr>\n",
       "      <th>0</th>\n",
       "      <td>[catheterization, laboratory, event, hospital,...</td>\n",
       "      <td>3</td>\n",
       "      <td>catheterization laboratory event hospital outc...</td>\n",
       "    </tr>\n",
       "    <tr>\n",
       "      <th>1</th>\n",
       "      <td>[renal, abscess, child, three, renal, abscess,...</td>\n",
       "      <td>4</td>\n",
       "      <td>renal abscess child three renal abscess child ...</td>\n",
       "    </tr>\n",
       "  </tbody>\n",
       "</table>\n",
       "</div>"
      ],
      "text/plain": [
       "                                             cleaned  class  \\\n",
       "0  [catheterization, laboratory, event, hospital,...      3   \n",
       "1  [renal, abscess, child, three, renal, abscess,...      4   \n",
       "\n",
       "                                               words  \n",
       "0  catheterization laboratory event hospital outc...  \n",
       "1  renal abscess child three renal abscess child ...  "
      ]
     },
     "execution_count": 4,
     "metadata": {},
     "output_type": "execute_result"
    }
   ],
   "source": [
    "# load in data, 'converters' turns str dtype -> list\n",
    "df = pd.read_csv('../data/train_cleaned.csv', converters={'cleaned': pd.eval}, index_col='Unnamed: 0')\n",
    "\n",
    "# join lists as single string\n",
    "df['words'] = df.cleaned.apply(lambda x: \" \".join(x))\n",
    "\n",
    "df.head(2)"
   ]
  },
  {
   "cell_type": "code",
   "execution_count": 5,
   "id": "ecc872d3",
   "metadata": {
    "ExecuteTime": {
     "end_time": "2023-10-25T20:16:01.432230Z",
     "start_time": "2023-10-25T20:16:01.421220Z"
    }
   },
   "outputs": [],
   "source": [
    "# drop class 4\n",
    "df2 = df.loc[df['class'] < 4]"
   ]
  },
  {
   "cell_type": "markdown",
   "id": "9a3d2338",
   "metadata": {},
   "source": [
    "# NN architecture"
   ]
  },
  {
   "cell_type": "code",
   "execution_count": 7,
   "id": "48789295",
   "metadata": {
    "ExecuteTime": {
     "end_time": "2023-10-25T20:16:52.031457Z",
     "start_time": "2023-10-25T20:16:52.024452Z"
    }
   },
   "outputs": [],
   "source": [
    "# function to build a keras model\n",
    "def build_model(input_dim, node_list):\n",
    "    '''\n",
    "    Build and return a keras NN with a specified node count for each hidden layer.\n",
    "    \n",
    "    Parameters:\n",
    "    node_list - list where nth index value corresponds to nth hidden layer node count\n",
    "    \n",
    "    Returns:\n",
    "    model - a keras NN\n",
    "    \n",
    "    '''\n",
    "    \n",
    "    model = Sequential()\n",
    "    model.add(Input(shape=(input_dim,)))\n",
    "    \n",
    "    # add Dense hidden layers\n",
    "    for node in node_list:\n",
    "        # dense layer\n",
    "        model.add(Dense(node, activation=relu))\n",
    "        \n",
    "        # standardize layer's weights\n",
    "        model.add(BatchNormalization())\n",
    "        \n",
    "        # 50% dropout\n",
    "        model.add(Dropout(0.5))\n",
    "        \n",
    "    # output layer - 4 possible classes\n",
    "    model.add(Dense(4, activation='softmax'))\n",
    "\n",
    "    model.compile(optimizer=Adam(), loss='sparse_categorical_crossentropy', metrics=['accuracy'])\n",
    "    \n",
    "    return model"
   ]
  },
  {
   "cell_type": "markdown",
   "id": "9b295e1b",
   "metadata": {},
   "source": [
    "# Split data"
   ]
  },
  {
   "cell_type": "code",
   "execution_count": 8,
   "id": "c1b6ac29",
   "metadata": {
    "ExecuteTime": {
     "end_time": "2023-10-25T20:16:52.695852Z",
     "start_time": "2023-10-25T20:16:52.688846Z"
    }
   },
   "outputs": [],
   "source": [
    "# global random state for reproducibility\n",
    "random_state = 0"
   ]
  },
  {
   "cell_type": "code",
   "execution_count": 9,
   "id": "7116d379",
   "metadata": {
    "ExecuteTime": {
     "end_time": "2023-10-25T20:26:46.870418Z",
     "start_time": "2023-10-25T20:26:46.857406Z"
    }
   },
   "outputs": [],
   "source": [
    "# split train and test 80/20\n",
    "X_train, X_test, y_train, y_test = train_test_split(df2.words, df2['class'], test_size=0.2, random_state=random_state)"
   ]
  },
  {
   "cell_type": "markdown",
   "id": "a6544686",
   "metadata": {},
   "source": [
    "# Pipeline"
   ]
  },
  {
   "cell_type": "code",
   "execution_count": 10,
   "id": "815a367b",
   "metadata": {
    "ExecuteTime": {
     "end_time": "2023-10-25T20:26:55.493463Z",
     "start_time": "2023-10-25T20:26:55.483455Z"
    }
   },
   "outputs": [],
   "source": [
    "# build stacking classifier\n",
    "stack = StackingClassifier([\n",
    "    ('logreg', KNeighborsClassifier(n_neighbors=20)),\n",
    "    ('lr', LogisticRegression(max_iter=1000, penalty=None))\n",
    "])"
   ]
  },
  {
   "cell_type": "code",
   "execution_count": 12,
   "id": "a99ed310",
   "metadata": {
    "ExecuteTime": {
     "end_time": "2023-10-25T20:27:15.304422Z",
     "start_time": "2023-10-25T20:27:15.289410Z"
    }
   },
   "outputs": [],
   "source": [
    "pipe = Pipeline([\n",
    "    ('vec', TfidfVectorizer()),\n",
    "    ('svd', TruncatedSVD(n_components=100, random_state=random_state)),\n",
    "    ('stack', stack)\n",
    "])"
   ]
  },
  {
   "cell_type": "code",
   "execution_count": 13,
   "id": "12c84a77",
   "metadata": {
    "ExecuteTime": {
     "end_time": "2023-10-25T20:27:21.715241Z",
     "start_time": "2023-10-25T20:27:18.242921Z"
    }
   },
   "outputs": [
    {
     "data": {
      "text/html": [
       "<style>#sk-container-id-1 {color: black;}#sk-container-id-1 pre{padding: 0;}#sk-container-id-1 div.sk-toggleable {background-color: white;}#sk-container-id-1 label.sk-toggleable__label {cursor: pointer;display: block;width: 100%;margin-bottom: 0;padding: 0.3em;box-sizing: border-box;text-align: center;}#sk-container-id-1 label.sk-toggleable__label-arrow:before {content: \"▸\";float: left;margin-right: 0.25em;color: #696969;}#sk-container-id-1 label.sk-toggleable__label-arrow:hover:before {color: black;}#sk-container-id-1 div.sk-estimator:hover label.sk-toggleable__label-arrow:before {color: black;}#sk-container-id-1 div.sk-toggleable__content {max-height: 0;max-width: 0;overflow: hidden;text-align: left;background-color: #f0f8ff;}#sk-container-id-1 div.sk-toggleable__content pre {margin: 0.2em;color: black;border-radius: 0.25em;background-color: #f0f8ff;}#sk-container-id-1 input.sk-toggleable__control:checked~div.sk-toggleable__content {max-height: 200px;max-width: 100%;overflow: auto;}#sk-container-id-1 input.sk-toggleable__control:checked~label.sk-toggleable__label-arrow:before {content: \"▾\";}#sk-container-id-1 div.sk-estimator input.sk-toggleable__control:checked~label.sk-toggleable__label {background-color: #d4ebff;}#sk-container-id-1 div.sk-label input.sk-toggleable__control:checked~label.sk-toggleable__label {background-color: #d4ebff;}#sk-container-id-1 input.sk-hidden--visually {border: 0;clip: rect(1px 1px 1px 1px);clip: rect(1px, 1px, 1px, 1px);height: 1px;margin: -1px;overflow: hidden;padding: 0;position: absolute;width: 1px;}#sk-container-id-1 div.sk-estimator {font-family: monospace;background-color: #f0f8ff;border: 1px dotted black;border-radius: 0.25em;box-sizing: border-box;margin-bottom: 0.5em;}#sk-container-id-1 div.sk-estimator:hover {background-color: #d4ebff;}#sk-container-id-1 div.sk-parallel-item::after {content: \"\";width: 100%;border-bottom: 1px solid gray;flex-grow: 1;}#sk-container-id-1 div.sk-label:hover label.sk-toggleable__label {background-color: #d4ebff;}#sk-container-id-1 div.sk-serial::before {content: \"\";position: absolute;border-left: 1px solid gray;box-sizing: border-box;top: 0;bottom: 0;left: 50%;z-index: 0;}#sk-container-id-1 div.sk-serial {display: flex;flex-direction: column;align-items: center;background-color: white;padding-right: 0.2em;padding-left: 0.2em;position: relative;}#sk-container-id-1 div.sk-item {position: relative;z-index: 1;}#sk-container-id-1 div.sk-parallel {display: flex;align-items: stretch;justify-content: center;background-color: white;position: relative;}#sk-container-id-1 div.sk-item::before, #sk-container-id-1 div.sk-parallel-item::before {content: \"\";position: absolute;border-left: 1px solid gray;box-sizing: border-box;top: 0;bottom: 0;left: 50%;z-index: -1;}#sk-container-id-1 div.sk-parallel-item {display: flex;flex-direction: column;z-index: 1;position: relative;background-color: white;}#sk-container-id-1 div.sk-parallel-item:first-child::after {align-self: flex-end;width: 50%;}#sk-container-id-1 div.sk-parallel-item:last-child::after {align-self: flex-start;width: 50%;}#sk-container-id-1 div.sk-parallel-item:only-child::after {width: 0;}#sk-container-id-1 div.sk-dashed-wrapped {border: 1px dashed gray;margin: 0 0.4em 0.5em 0.4em;box-sizing: border-box;padding-bottom: 0.4em;background-color: white;}#sk-container-id-1 div.sk-label label {font-family: monospace;font-weight: bold;display: inline-block;line-height: 1.2em;}#sk-container-id-1 div.sk-label-container {text-align: center;}#sk-container-id-1 div.sk-container {/* jupyter's `normalize.less` sets `[hidden] { display: none; }` but bootstrap.min.css set `[hidden] { display: none !important; }` so we also need the `!important` here to be able to override the default hidden behavior on the sphinx rendered scikit-learn.org. See: https://github.com/scikit-learn/scikit-learn/issues/21755 */display: inline-block !important;position: relative;}#sk-container-id-1 div.sk-text-repr-fallback {display: none;}</style><div id=\"sk-container-id-1\" class=\"sk-top-container\"><div class=\"sk-text-repr-fallback\"><pre>Pipeline(steps=[(&#x27;vec&#x27;, TfidfVectorizer()),\n",
       "                (&#x27;svd&#x27;, TruncatedSVD(n_components=100, random_state=0)),\n",
       "                (&#x27;stack&#x27;,\n",
       "                 StackingClassifier(estimators=[(&#x27;logreg&#x27;,\n",
       "                                                 KNeighborsClassifier(n_neighbors=20)),\n",
       "                                                (&#x27;lr&#x27;,\n",
       "                                                 LogisticRegression(max_iter=1000,\n",
       "                                                                    penalty=None))]))])</pre><b>In a Jupyter environment, please rerun this cell to show the HTML representation or trust the notebook. <br />On GitHub, the HTML representation is unable to render, please try loading this page with nbviewer.org.</b></div><div class=\"sk-container\" hidden><div class=\"sk-item sk-dashed-wrapped\"><div class=\"sk-label-container\"><div class=\"sk-label sk-toggleable\"><input class=\"sk-toggleable__control sk-hidden--visually\" id=\"sk-estimator-id-1\" type=\"checkbox\" ><label for=\"sk-estimator-id-1\" class=\"sk-toggleable__label sk-toggleable__label-arrow\">Pipeline</label><div class=\"sk-toggleable__content\"><pre>Pipeline(steps=[(&#x27;vec&#x27;, TfidfVectorizer()),\n",
       "                (&#x27;svd&#x27;, TruncatedSVD(n_components=100, random_state=0)),\n",
       "                (&#x27;stack&#x27;,\n",
       "                 StackingClassifier(estimators=[(&#x27;logreg&#x27;,\n",
       "                                                 KNeighborsClassifier(n_neighbors=20)),\n",
       "                                                (&#x27;lr&#x27;,\n",
       "                                                 LogisticRegression(max_iter=1000,\n",
       "                                                                    penalty=None))]))])</pre></div></div></div><div class=\"sk-serial\"><div class=\"sk-item\"><div class=\"sk-estimator sk-toggleable\"><input class=\"sk-toggleable__control sk-hidden--visually\" id=\"sk-estimator-id-2\" type=\"checkbox\" ><label for=\"sk-estimator-id-2\" class=\"sk-toggleable__label sk-toggleable__label-arrow\">TfidfVectorizer</label><div class=\"sk-toggleable__content\"><pre>TfidfVectorizer()</pre></div></div></div><div class=\"sk-item\"><div class=\"sk-estimator sk-toggleable\"><input class=\"sk-toggleable__control sk-hidden--visually\" id=\"sk-estimator-id-3\" type=\"checkbox\" ><label for=\"sk-estimator-id-3\" class=\"sk-toggleable__label sk-toggleable__label-arrow\">TruncatedSVD</label><div class=\"sk-toggleable__content\"><pre>TruncatedSVD(n_components=100, random_state=0)</pre></div></div></div><div class=\"sk-item\"><div class=\"sk-label-container\"><div class=\"sk-label sk-toggleable\"><input class=\"sk-toggleable__control sk-hidden--visually\" id=\"sk-estimator-id-4\" type=\"checkbox\" ><label for=\"sk-estimator-id-4\" class=\"sk-toggleable__label sk-toggleable__label-arrow\">stack: StackingClassifier</label><div class=\"sk-toggleable__content\"><pre>StackingClassifier(estimators=[(&#x27;logreg&#x27;, KNeighborsClassifier(n_neighbors=20)),\n",
       "                               (&#x27;lr&#x27;,\n",
       "                                LogisticRegression(max_iter=1000,\n",
       "                                                   penalty=None))])</pre></div></div></div><div class=\"sk-serial\"><div class=\"sk-item\"><div class=\"sk-parallel\"><div class=\"sk-parallel-item\"><div class=\"sk-item\"><div class=\"sk-label-container\"><div class=\"sk-label sk-toggleable\"><label>logreg</label></div></div><div class=\"sk-serial\"><div class=\"sk-item\"><div class=\"sk-estimator sk-toggleable\"><input class=\"sk-toggleable__control sk-hidden--visually\" id=\"sk-estimator-id-5\" type=\"checkbox\" ><label for=\"sk-estimator-id-5\" class=\"sk-toggleable__label sk-toggleable__label-arrow\">KNeighborsClassifier</label><div class=\"sk-toggleable__content\"><pre>KNeighborsClassifier(n_neighbors=20)</pre></div></div></div></div></div></div><div class=\"sk-parallel-item\"><div class=\"sk-item\"><div class=\"sk-label-container\"><div class=\"sk-label sk-toggleable\"><label>lr</label></div></div><div class=\"sk-serial\"><div class=\"sk-item\"><div class=\"sk-estimator sk-toggleable\"><input class=\"sk-toggleable__control sk-hidden--visually\" id=\"sk-estimator-id-6\" type=\"checkbox\" ><label for=\"sk-estimator-id-6\" class=\"sk-toggleable__label sk-toggleable__label-arrow\">LogisticRegression</label><div class=\"sk-toggleable__content\"><pre>LogisticRegression(max_iter=1000, penalty=None)</pre></div></div></div></div></div></div></div></div><div class=\"sk-item\"><div class=\"sk-parallel\"><div class=\"sk-parallel-item\"><div class=\"sk-item\"><div class=\"sk-label-container\"><div class=\"sk-label sk-toggleable\"><label>final_estimator</label></div></div><div class=\"sk-serial\"><div class=\"sk-item\"><div class=\"sk-estimator sk-toggleable\"><input class=\"sk-toggleable__control sk-hidden--visually\" id=\"sk-estimator-id-7\" type=\"checkbox\" ><label for=\"sk-estimator-id-7\" class=\"sk-toggleable__label sk-toggleable__label-arrow\">LogisticRegression</label><div class=\"sk-toggleable__content\"><pre>LogisticRegression()</pre></div></div></div></div></div></div></div></div></div></div></div></div></div></div>"
      ],
      "text/plain": [
       "Pipeline(steps=[('vec', TfidfVectorizer()),\n",
       "                ('svd', TruncatedSVD(n_components=100, random_state=0)),\n",
       "                ('stack',\n",
       "                 StackingClassifier(estimators=[('logreg',\n",
       "                                                 KNeighborsClassifier(n_neighbors=20)),\n",
       "                                                ('lr',\n",
       "                                                 LogisticRegression(max_iter=1000,\n",
       "                                                                    penalty=None))]))])"
      ]
     },
     "execution_count": 13,
     "metadata": {},
     "output_type": "execute_result"
    }
   ],
   "source": [
    "# train\n",
    "pipe.fit(X_train, y_train)"
   ]
  },
  {
   "cell_type": "code",
   "execution_count": 14,
   "id": "97d6792f",
   "metadata": {
    "ExecuteTime": {
     "end_time": "2023-10-25T20:27:30.043647Z",
     "start_time": "2023-10-25T20:27:29.185447Z"
    }
   },
   "outputs": [
    {
     "data": {
      "text/plain": [
       "(0.8348040487931482, 0.8142189932537623)"
      ]
     },
     "execution_count": 14,
     "metadata": {},
     "output_type": "execute_result"
    }
   ],
   "source": [
    "# get scores\n",
    "pipe.score(X_train, y_train), pipe.score(X_test, y_test)"
   ]
  },
  {
   "cell_type": "markdown",
   "id": "c186d32a",
   "metadata": {},
   "source": [
    "- our best stacker achieved 81.4% testing accuracy"
   ]
  },
  {
   "cell_type": "markdown",
   "id": "4a1dfc4c",
   "metadata": {},
   "source": [
    "# Disease deducer"
   ]
  },
  {
   "cell_type": "code",
   "execution_count": 17,
   "id": "0b73b34b",
   "metadata": {
    "ExecuteTime": {
     "end_time": "2023-10-25T20:30:15.294485Z",
     "start_time": "2023-10-25T20:30:14.449132Z"
    }
   },
   "outputs": [],
   "source": [
    "# get pipeline prediction probs\n",
    "train_preds = pipe.predict_proba(X_train)\n",
    "test_preds = pipe.predict_proba(X_test)\n",
    "\n",
    "# Calculate the residuals\n",
    "train_residuals = to_categorical(y_train) - train_preds\n",
    "test_residuals = to_categorical(y_test) - test_preds"
   ]
  },
  {
   "cell_type": "code",
   "execution_count": 196,
   "id": "9b88556f",
   "metadata": {
    "ExecuteTime": {
     "end_time": "2023-10-25T20:04:39.687600Z",
     "start_time": "2023-10-25T20:04:39.622542Z"
    }
   },
   "outputs": [],
   "source": [
    "# add early stopping -> if model doesn't decrease val_loss every 5 epochs, exit the fitting process\n",
    "# early_stopping = EarlyStopping(monitor='val_loss', patience=5, mode='min', verbose=1)"
   ]
  },
  {
   "cell_type": "code",
   "execution_count": 18,
   "id": "ac62dcd8",
   "metadata": {
    "ExecuteTime": {
     "end_time": "2023-10-25T20:30:20.418282Z",
     "start_time": "2023-10-25T20:30:20.277150Z"
    }
   },
   "outputs": [],
   "source": [
    "# create the KerasClassifier, use residuals as input data\n",
    "nn = KerasClassifier(model=build_model(train_residuals.shape[1], [64, 64, 32, 32]), epochs=20, batch_size=64, optimizer=Adam(),\n",
    "                     validation_split=0.2, verbose=1, loss='sparse_categorical_crossentropy')"
   ]
  },
  {
   "cell_type": "code",
   "execution_count": 19,
   "id": "7968e1d9",
   "metadata": {
    "ExecuteTime": {
     "end_time": "2023-10-25T20:30:26.648250Z",
     "start_time": "2023-10-25T20:30:20.856407Z"
    },
    "scrolled": true
   },
   "outputs": [
    {
     "name": "stdout",
     "output_type": "stream",
     "text": [
      "Epoch 1/20\n",
      "97/97 [==============================] - 1s 4ms/step - loss: 1.4733 - accuracy: 0.4335 - val_loss: 1.2225 - val_accuracy: 0.3820\n",
      "Epoch 2/20\n",
      "97/97 [==============================] - 0s 2ms/step - loss: 0.8104 - accuracy: 0.6843 - val_loss: 0.9893 - val_accuracy: 0.4981\n",
      "Epoch 3/20\n",
      "97/97 [==============================] - 0s 2ms/step - loss: 0.5352 - accuracy: 0.8133 - val_loss: 0.5937 - val_accuracy: 0.7030\n",
      "Epoch 4/20\n",
      "97/97 [==============================] - 0s 2ms/step - loss: 0.3786 - accuracy: 0.8739 - val_loss: 0.2316 - val_accuracy: 0.9429\n",
      "Epoch 5/20\n",
      "97/97 [==============================] - 0s 2ms/step - loss: 0.2946 - accuracy: 0.9004 - val_loss: 0.0886 - val_accuracy: 0.9754\n",
      "Epoch 6/20\n",
      "97/97 [==============================] - 0s 2ms/step - loss: 0.2497 - accuracy: 0.9195 - val_loss: 0.0434 - val_accuracy: 1.0000\n",
      "Epoch 7/20\n",
      "97/97 [==============================] - 0s 2ms/step - loss: 0.1934 - accuracy: 0.9384 - val_loss: 0.0119 - val_accuracy: 1.0000\n",
      "Epoch 8/20\n",
      "97/97 [==============================] - 0s 2ms/step - loss: 0.1596 - accuracy: 0.9508 - val_loss: 0.0047 - val_accuracy: 1.0000\n",
      "Epoch 9/20\n",
      "97/97 [==============================] - 0s 2ms/step - loss: 0.1499 - accuracy: 0.9518 - val_loss: 0.0030 - val_accuracy: 1.0000\n",
      "Epoch 10/20\n",
      "97/97 [==============================] - 0s 2ms/step - loss: 0.1190 - accuracy: 0.9643 - val_loss: 0.0028 - val_accuracy: 1.0000\n",
      "Epoch 11/20\n",
      "97/97 [==============================] - 0s 2ms/step - loss: 0.1168 - accuracy: 0.9620 - val_loss: 0.0016 - val_accuracy: 1.0000\n",
      "Epoch 12/20\n",
      "97/97 [==============================] - 0s 2ms/step - loss: 0.1173 - accuracy: 0.9653 - val_loss: 0.0020 - val_accuracy: 1.0000\n",
      "Epoch 13/20\n",
      "97/97 [==============================] - 0s 2ms/step - loss: 0.0990 - accuracy: 0.9724 - val_loss: 0.0012 - val_accuracy: 1.0000\n",
      "Epoch 14/20\n",
      "97/97 [==============================] - 0s 2ms/step - loss: 0.0950 - accuracy: 0.9708 - val_loss: 7.4191e-04 - val_accuracy: 1.0000\n",
      "Epoch 15/20\n",
      "97/97 [==============================] - 0s 2ms/step - loss: 0.0767 - accuracy: 0.9804 - val_loss: 4.5749e-04 - val_accuracy: 1.0000\n",
      "Epoch 16/20\n",
      "97/97 [==============================] - 0s 2ms/step - loss: 0.0670 - accuracy: 0.9802 - val_loss: 4.0480e-04 - val_accuracy: 1.0000\n",
      "Epoch 17/20\n",
      "97/97 [==============================] - 0s 2ms/step - loss: 0.0712 - accuracy: 0.9807 - val_loss: 8.3988e-04 - val_accuracy: 1.0000\n",
      "Epoch 18/20\n",
      "97/97 [==============================] - 0s 2ms/step - loss: 0.0660 - accuracy: 0.9805 - val_loss: 2.0309e-04 - val_accuracy: 1.0000\n",
      "Epoch 19/20\n",
      "97/97 [==============================] - 0s 2ms/step - loss: 0.0618 - accuracy: 0.9817 - val_loss: 1.6107e-04 - val_accuracy: 1.0000\n",
      "Epoch 20/20\n",
      "97/97 [==============================] - 0s 2ms/step - loss: 0.0689 - accuracy: 0.9800 - val_loss: 1.6468e-04 - val_accuracy: 1.0000\n"
     ]
    },
    {
     "data": {
      "text/html": [
       "<style>#sk-container-id-2 {color: black;}#sk-container-id-2 pre{padding: 0;}#sk-container-id-2 div.sk-toggleable {background-color: white;}#sk-container-id-2 label.sk-toggleable__label {cursor: pointer;display: block;width: 100%;margin-bottom: 0;padding: 0.3em;box-sizing: border-box;text-align: center;}#sk-container-id-2 label.sk-toggleable__label-arrow:before {content: \"▸\";float: left;margin-right: 0.25em;color: #696969;}#sk-container-id-2 label.sk-toggleable__label-arrow:hover:before {color: black;}#sk-container-id-2 div.sk-estimator:hover label.sk-toggleable__label-arrow:before {color: black;}#sk-container-id-2 div.sk-toggleable__content {max-height: 0;max-width: 0;overflow: hidden;text-align: left;background-color: #f0f8ff;}#sk-container-id-2 div.sk-toggleable__content pre {margin: 0.2em;color: black;border-radius: 0.25em;background-color: #f0f8ff;}#sk-container-id-2 input.sk-toggleable__control:checked~div.sk-toggleable__content {max-height: 200px;max-width: 100%;overflow: auto;}#sk-container-id-2 input.sk-toggleable__control:checked~label.sk-toggleable__label-arrow:before {content: \"▾\";}#sk-container-id-2 div.sk-estimator input.sk-toggleable__control:checked~label.sk-toggleable__label {background-color: #d4ebff;}#sk-container-id-2 div.sk-label input.sk-toggleable__control:checked~label.sk-toggleable__label {background-color: #d4ebff;}#sk-container-id-2 input.sk-hidden--visually {border: 0;clip: rect(1px 1px 1px 1px);clip: rect(1px, 1px, 1px, 1px);height: 1px;margin: -1px;overflow: hidden;padding: 0;position: absolute;width: 1px;}#sk-container-id-2 div.sk-estimator {font-family: monospace;background-color: #f0f8ff;border: 1px dotted black;border-radius: 0.25em;box-sizing: border-box;margin-bottom: 0.5em;}#sk-container-id-2 div.sk-estimator:hover {background-color: #d4ebff;}#sk-container-id-2 div.sk-parallel-item::after {content: \"\";width: 100%;border-bottom: 1px solid gray;flex-grow: 1;}#sk-container-id-2 div.sk-label:hover label.sk-toggleable__label {background-color: #d4ebff;}#sk-container-id-2 div.sk-serial::before {content: \"\";position: absolute;border-left: 1px solid gray;box-sizing: border-box;top: 0;bottom: 0;left: 50%;z-index: 0;}#sk-container-id-2 div.sk-serial {display: flex;flex-direction: column;align-items: center;background-color: white;padding-right: 0.2em;padding-left: 0.2em;position: relative;}#sk-container-id-2 div.sk-item {position: relative;z-index: 1;}#sk-container-id-2 div.sk-parallel {display: flex;align-items: stretch;justify-content: center;background-color: white;position: relative;}#sk-container-id-2 div.sk-item::before, #sk-container-id-2 div.sk-parallel-item::before {content: \"\";position: absolute;border-left: 1px solid gray;box-sizing: border-box;top: 0;bottom: 0;left: 50%;z-index: -1;}#sk-container-id-2 div.sk-parallel-item {display: flex;flex-direction: column;z-index: 1;position: relative;background-color: white;}#sk-container-id-2 div.sk-parallel-item:first-child::after {align-self: flex-end;width: 50%;}#sk-container-id-2 div.sk-parallel-item:last-child::after {align-self: flex-start;width: 50%;}#sk-container-id-2 div.sk-parallel-item:only-child::after {width: 0;}#sk-container-id-2 div.sk-dashed-wrapped {border: 1px dashed gray;margin: 0 0.4em 0.5em 0.4em;box-sizing: border-box;padding-bottom: 0.4em;background-color: white;}#sk-container-id-2 div.sk-label label {font-family: monospace;font-weight: bold;display: inline-block;line-height: 1.2em;}#sk-container-id-2 div.sk-label-container {text-align: center;}#sk-container-id-2 div.sk-container {/* jupyter's `normalize.less` sets `[hidden] { display: none; }` but bootstrap.min.css set `[hidden] { display: none !important; }` so we also need the `!important` here to be able to override the default hidden behavior on the sphinx rendered scikit-learn.org. See: https://github.com/scikit-learn/scikit-learn/issues/21755 */display: inline-block !important;position: relative;}#sk-container-id-2 div.sk-text-repr-fallback {display: none;}</style><div id=\"sk-container-id-2\" class=\"sk-top-container\"><div class=\"sk-text-repr-fallback\"><pre>KerasClassifier(\n",
       "\tmodel=&lt;keras.engine.sequential.Sequential object at 0x0000020E2581BB80&gt;\n",
       "\tbuild_fn=None\n",
       "\twarm_start=False\n",
       "\trandom_state=None\n",
       "\toptimizer=&lt;keras.optimizers.optimizer_v2.adam.Adam object at 0x0000020E2C4B6B00&gt;\n",
       "\tloss=sparse_categorical_crossentropy\n",
       "\tmetrics=None\n",
       "\tbatch_size=64\n",
       "\tvalidation_batch_size=None\n",
       "\tverbose=1\n",
       "\tcallbacks=None\n",
       "\tvalidation_split=0.2\n",
       "\tshuffle=True\n",
       "\trun_eagerly=False\n",
       "\tepochs=20\n",
       "\tclass_weight=None\n",
       ")</pre><b>In a Jupyter environment, please rerun this cell to show the HTML representation or trust the notebook. <br />On GitHub, the HTML representation is unable to render, please try loading this page with nbviewer.org.</b></div><div class=\"sk-container\" hidden><div class=\"sk-item\"><div class=\"sk-estimator sk-toggleable\"><input class=\"sk-toggleable__control sk-hidden--visually\" id=\"sk-estimator-id-8\" type=\"checkbox\" checked><label for=\"sk-estimator-id-8\" class=\"sk-toggleable__label sk-toggleable__label-arrow\">KerasClassifier</label><div class=\"sk-toggleable__content\"><pre>KerasClassifier(\n",
       "\tmodel=&lt;keras.engine.sequential.Sequential object at 0x0000020E2581BB80&gt;\n",
       "\tbuild_fn=None\n",
       "\twarm_start=False\n",
       "\trandom_state=None\n",
       "\toptimizer=&lt;keras.optimizers.optimizer_v2.adam.Adam object at 0x0000020E2C4B6B00&gt;\n",
       "\tloss=sparse_categorical_crossentropy\n",
       "\tmetrics=None\n",
       "\tbatch_size=64\n",
       "\tvalidation_batch_size=None\n",
       "\tverbose=1\n",
       "\tcallbacks=None\n",
       "\tvalidation_split=0.2\n",
       "\tshuffle=True\n",
       "\trun_eagerly=False\n",
       "\tepochs=20\n",
       "\tclass_weight=None\n",
       ")</pre></div></div></div></div></div>"
      ],
      "text/plain": [
       "KerasClassifier(\n",
       "\tmodel=<keras.engine.sequential.Sequential object at 0x0000020E2581BB80>\n",
       "\tbuild_fn=None\n",
       "\twarm_start=False\n",
       "\trandom_state=None\n",
       "\toptimizer=<keras.optimizers.optimizer_v2.adam.Adam object at 0x0000020E2C4B6B00>\n",
       "\tloss=sparse_categorical_crossentropy\n",
       "\tmetrics=None\n",
       "\tbatch_size=64\n",
       "\tvalidation_batch_size=None\n",
       "\tverbose=1\n",
       "\tcallbacks=None\n",
       "\tvalidation_split=0.2\n",
       "\tshuffle=True\n",
       "\trun_eagerly=False\n",
       "\tepochs=20\n",
       "\tclass_weight=None\n",
       ")"
      ]
     },
     "execution_count": 19,
     "metadata": {},
     "output_type": "execute_result"
    }
   ],
   "source": [
    "# fit nn\n",
    "nn.fit(train_residuals, y_train)"
   ]
  },
  {
   "cell_type": "markdown",
   "id": "30f4b1fd",
   "metadata": {},
   "source": [
    "- ...\n",
    "- This model achieved 100% accuracy on both training and validation sets!"
   ]
  },
  {
   "cell_type": "code",
   "execution_count": 211,
   "id": "fafa751c",
   "metadata": {
    "ExecuteTime": {
     "end_time": "2023-10-25T20:11:50.778463Z",
     "start_time": "2023-10-25T20:11:50.444288Z"
    }
   },
   "outputs": [
    {
     "name": "stdout",
     "output_type": "stream",
     "text": [
      "97/97 [==============================] - 0s 761us/step\n",
      "31/31 [==============================] - 0s 801us/step\n"
     ]
    },
    {
     "data": {
      "text/plain": [
       "(1.0, 1.0)"
      ]
     },
     "execution_count": 211,
     "metadata": {},
     "output_type": "execute_result"
    }
   ],
   "source": [
    "# train acc, test acc\n",
    "nn.score(train_residuals, y_train), nn.score(test_residuals, y_test)"
   ]
  },
  {
   "cell_type": "code",
   "execution_count": null,
   "id": "9df38a7e",
   "metadata": {},
   "outputs": [],
   "source": []
  }
 ],
 "metadata": {
  "kernelspec": {
   "display_name": "tf-env",
   "language": "python",
   "name": "tf-env"
  },
  "language_info": {
   "codemirror_mode": {
    "name": "ipython",
    "version": 3
   },
   "file_extension": ".py",
   "mimetype": "text/x-python",
   "name": "python",
   "nbconvert_exporter": "python",
   "pygments_lexer": "ipython3",
   "version": "3.10.12"
  },
  "latex_envs": {
   "LaTeX_envs_menu_present": true,
   "autoclose": false,
   "autocomplete": true,
   "bibliofile": "biblio.bib",
   "cite_by": "apalike",
   "current_citInitial": 1,
   "eqLabelWithNumbers": true,
   "eqNumInitial": 1,
   "hotkeys": {
    "equation": "Ctrl-E",
    "itemize": "Ctrl-I"
   },
   "labels_anchors": false,
   "latex_user_defs": false,
   "report_style_numbering": false,
   "user_envs_cfg": false
  },
  "toc": {
   "base_numbering": 1,
   "nav_menu": {},
   "number_sections": true,
   "sideBar": true,
   "skip_h1_title": false,
   "title_cell": "Table of Contents",
   "title_sidebar": "Contents",
   "toc_cell": false,
   "toc_position": {},
   "toc_section_display": true,
   "toc_window_display": false
  }
 },
 "nbformat": 4,
 "nbformat_minor": 5
}

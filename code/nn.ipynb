{
 "cells": [
  {
   "cell_type": "markdown",
   "id": "61b6b9d0",
   "metadata": {
    "heading_collapsed": true
   },
   "source": [
    "# Load in data"
   ]
  },
  {
   "cell_type": "code",
   "execution_count": 1,
   "id": "667a2828",
   "metadata": {
    "ExecuteTime": {
     "end_time": "2023-10-26T14:51:47.081869Z",
     "start_time": "2023-10-26T14:51:39.134317Z"
    },
    "hidden": true
   },
   "outputs": [],
   "source": [
    "import pandas as pd\n",
    "import numpy as np\n",
    "\n",
    "import nltk\n",
    "from sklearn.feature_extraction.text import TfidfVectorizer, CountVectorizer, HashingVectorizer\n",
    "\n",
    "import matplotlib.pyplot as plt\n",
    "import seaborn as sns\n",
    "\n",
    "# sklearn\n",
    "from sklearn.model_selection import train_test_split, GridSearchCV\n",
    "from sklearn.metrics import log_loss, accuracy_score\n",
    "from sklearn.compose import ColumnTransformer\n",
    "from sklearn.pipeline import Pipeline\n",
    "from sklearn.metrics import ConfusionMatrixDisplay, classification_report\n",
    "from sklearn.decomposition import TruncatedSVD\n",
    "from sklearn.ensemble import StackingClassifier, RandomForestClassifier\n",
    "from sklearn.linear_model import LogisticRegression\n",
    "from sklearn.neighbors import KNeighborsClassifier\n",
    "from sklearn.tree import DecisionTreeClassifier\n",
    "from sklearn.naive_bayes import MultinomialNB\n",
    "\n",
    "from xgboost import XGBClassifier\n",
    "\n",
    "# tensorflow\n",
    "from tensorflow.keras.models import Sequential\n",
    "from tensorflow.keras.layers import Input, Dense, Dropout, BatchNormalization\n",
    "from tensorflow.keras.regularizers import L2\n",
    "from tensorflow.keras.activations import relu, sigmoid\n",
    "from tensorflow.keras.optimizers import SGD, Adam\n",
    "from tensorflow.keras.losses import categorical_crossentropy\n",
    "from tensorflow.keras.wrappers import scikit_learn\n",
    "from tensorflow.keras.callbacks import EarlyStopping\n",
    "from tensorflow.keras.utils import to_categorical\n",
    "from tensorflow.keras import backend\n",
    "\n",
    "from scikeras.wrappers import KerasClassifier\n",
    "\n",
    "pd.set_option('display.max_columns', 100)"
   ]
  },
  {
   "cell_type": "code",
   "execution_count": 2,
   "id": "74538f2d",
   "metadata": {
    "ExecuteTime": {
     "end_time": "2023-10-26T14:51:47.301355Z",
     "start_time": "2023-10-26T14:51:47.083871Z"
    },
    "hidden": true
   },
   "outputs": [
    {
     "name": "stdout",
     "output_type": "stream",
     "text": [
      "Num GPUs Available:  1\n"
     ]
    }
   ],
   "source": [
    "# make sure GPU is available\n",
    "import tensorflow as tf\n",
    "print(\"Num GPUs Available: \", len(tf.config.experimental.list_physical_devices('GPU')))"
   ]
  },
  {
   "cell_type": "code",
   "execution_count": 3,
   "id": "4d495ff8",
   "metadata": {
    "ExecuteTime": {
     "end_time": "2023-10-26T14:51:47.317232Z",
     "start_time": "2023-10-26T14:51:47.302339Z"
    },
    "hidden": true
   },
   "outputs": [],
   "source": [
    "# memory management of GPU\n",
    "gpu = tf.config.experimental.list_physical_devices('GPU')\n",
    "if gpu:\n",
    "    try:\n",
    "        tf.config.experimental.set_memory_growth(gpu[0], True)\n",
    "    except RuntimeError as e:\n",
    "        print(e)"
   ]
  },
  {
   "cell_type": "code",
   "execution_count": 4,
   "id": "fb722d18",
   "metadata": {
    "ExecuteTime": {
     "end_time": "2023-10-26T14:52:22.733879Z",
     "start_time": "2023-10-26T14:51:47.320006Z"
    },
    "hidden": true,
    "scrolled": true
   },
   "outputs": [
    {
     "data": {
      "text/html": [
       "<div>\n",
       "<style scoped>\n",
       "    .dataframe tbody tr th:only-of-type {\n",
       "        vertical-align: middle;\n",
       "    }\n",
       "\n",
       "    .dataframe tbody tr th {\n",
       "        vertical-align: top;\n",
       "    }\n",
       "\n",
       "    .dataframe thead th {\n",
       "        text-align: right;\n",
       "    }\n",
       "</style>\n",
       "<table border=\"1\" class=\"dataframe\">\n",
       "  <thead>\n",
       "    <tr style=\"text-align: right;\">\n",
       "      <th></th>\n",
       "      <th>cleaned</th>\n",
       "      <th>class</th>\n",
       "      <th>words</th>\n",
       "    </tr>\n",
       "  </thead>\n",
       "  <tbody>\n",
       "    <tr>\n",
       "      <th>0</th>\n",
       "      <td>[catheterization, laboratory, event, hospital,...</td>\n",
       "      <td>3</td>\n",
       "      <td>catheterization laboratory event hospital outc...</td>\n",
       "    </tr>\n",
       "    <tr>\n",
       "      <th>1</th>\n",
       "      <td>[renal, abscess, child, three, renal, abscess,...</td>\n",
       "      <td>4</td>\n",
       "      <td>renal abscess child three renal abscess child ...</td>\n",
       "    </tr>\n",
       "  </tbody>\n",
       "</table>\n",
       "</div>"
      ],
      "text/plain": [
       "                                             cleaned  class  \\\n",
       "0  [catheterization, laboratory, event, hospital,...      3   \n",
       "1  [renal, abscess, child, three, renal, abscess,...      4   \n",
       "\n",
       "                                               words  \n",
       "0  catheterization laboratory event hospital outc...  \n",
       "1  renal abscess child three renal abscess child ...  "
      ]
     },
     "execution_count": 4,
     "metadata": {},
     "output_type": "execute_result"
    }
   ],
   "source": [
    "# load in data, 'converters' turns str dtype -> list\n",
    "df = pd.read_csv('../data/train_cleaned.csv', converters={'cleaned': pd.eval}, index_col='Unnamed: 0')\n",
    "\n",
    "# join lists as single string\n",
    "df['words'] = df.cleaned.apply(lambda x: \" \".join(x))\n",
    "\n",
    "df.head(2)"
   ]
  },
  {
   "cell_type": "markdown",
   "id": "97004482",
   "metadata": {},
   "source": [
    "# Target Variable"
   ]
  },
  {
   "cell_type": "code",
   "execution_count": 5,
   "id": "fef6351e",
   "metadata": {
    "ExecuteTime": {
     "end_time": "2023-10-26T14:52:22.749894Z",
     "start_time": "2023-10-26T14:52:22.735881Z"
    }
   },
   "outputs": [
    {
     "data": {
      "text/plain": [
       "class\n",
       "4    0.332802\n",
       "0    0.219075\n",
       "3    0.211317\n",
       "2    0.133329\n",
       "1    0.103477\n",
       "Name: proportion, dtype: float64"
      ]
     },
     "execution_count": 5,
     "metadata": {},
     "output_type": "execute_result"
    }
   ],
   "source": [
    "# look at class distribution\n",
    "df['class'].value_counts(normalize=True)"
   ]
  },
  {
   "cell_type": "markdown",
   "id": "df3355eb",
   "metadata": {},
   "source": [
    "- 0: Neoplasms\n",
    "- 1: Digestive system diseases\n",
    "- 2: Nervous system diseases\n",
    "- 3: Cardiovascular diseases\n",
    "- 4: General pathological conditions\n",
    "\n",
    "We chose to drop class 4, as the 'general' category hindered our model's ability to generalize."
   ]
  },
  {
   "cell_type": "code",
   "execution_count": 6,
   "id": "ba5767e1",
   "metadata": {
    "ExecuteTime": {
     "end_time": "2023-10-26T14:52:22.765795Z",
     "start_time": "2023-10-26T14:52:22.751896Z"
    }
   },
   "outputs": [],
   "source": [
    "# drop class 4\n",
    "df2 = df.loc[df['class'] < 4]"
   ]
  },
  {
   "cell_type": "code",
   "execution_count": 7,
   "id": "4b2d4aba",
   "metadata": {
    "ExecuteTime": {
     "end_time": "2023-10-26T14:52:22.781118Z",
     "start_time": "2023-10-26T14:52:22.767782Z"
    }
   },
   "outputs": [
    {
     "data": {
      "text/plain": [
       "(14438, 9633)"
      ]
     },
     "execution_count": 7,
     "metadata": {},
     "output_type": "execute_result"
    }
   ],
   "source": [
    "# shapes of data\n",
    "df.shape[0], df2.shape[0]"
   ]
  },
  {
   "cell_type": "markdown",
   "id": "f4bf3456",
   "metadata": {},
   "source": [
    "- This reduced sample size from 14.4k to 9.6k\n",
    "- We feel like this drop was for the best, as it allowed our models to classify documents with much greater accuracy"
   ]
  },
  {
   "cell_type": "markdown",
   "id": "a6544afc",
   "metadata": {},
   "source": [
    "# Custom functions"
   ]
  },
  {
   "cell_type": "markdown",
   "id": "17a0d2e3",
   "metadata": {
    "heading_collapsed": true
   },
   "source": [
    "### Look at input features"
   ]
  },
  {
   "cell_type": "code",
   "execution_count": 19,
   "id": "e6519241",
   "metadata": {
    "ExecuteTime": {
     "end_time": "2023-10-25T14:11:01.003967Z",
     "start_time": "2023-10-25T14:11:00.289352Z"
    },
    "hidden": true
   },
   "outputs": [
    {
     "data": {
      "text/plain": [
       "(9633, 27268)"
      ]
     },
     "execution_count": 19,
     "metadata": {},
     "output_type": "execute_result"
    }
   ],
   "source": [
    "# vectorize\n",
    "vectorizer = CountVectorizer()\n",
    "X = vectorizer.fit_transform(df2.words)\n",
    "\n",
    "# shape of input data\n",
    "X.shape"
   ]
  },
  {
   "cell_type": "markdown",
   "id": "09e092e6",
   "metadata": {
    "hidden": true
   },
   "source": [
    "- Over 27k unique unigrams in our dataset\n",
    "- This number will change based on params passed into the vectorizer\n",
    "- We used SVD (Singular Value Decomposition) to reduce the dimensionality of our vectorized data, reducing our feature space to around 100"
   ]
  },
  {
   "cell_type": "markdown",
   "id": "30e635c4",
   "metadata": {},
   "source": [
    "### models df"
   ]
  },
  {
   "cell_type": "code",
   "execution_count": null,
   "id": "1e730a70",
   "metadata": {
    "ExecuteTime": {
     "end_time": "2023-10-24T19:39:35.266492Z",
     "start_time": "2023-10-24T19:39:35.241469Z"
    }
   },
   "outputs": [],
   "source": [
    "# empty df to store NN results and params\n",
    "keras_df = pd.DataFrame(columns=['train_acc', 'train_loss', 'test_acc', 'test_loss', 'num_layers', 'shape', 'optim', \n",
    "                                 'epochs', 'batch_size', 'vec_name', 'vec_feats', 'vec_min', 'vec_max'])\n",
    "keras_df"
   ]
  },
  {
   "cell_type": "markdown",
   "id": "da8e6ded",
   "metadata": {},
   "source": [
    "### Custom functions"
   ]
  },
  {
   "cell_type": "code",
   "execution_count": null,
   "id": "75e979d7",
   "metadata": {
    "ExecuteTime": {
     "end_time": "2023-10-24T19:39:35.392483Z",
     "start_time": "2023-10-24T19:39:35.380472Z"
    }
   },
   "outputs": [],
   "source": [
    "# train NN, return acc, loss, and model parameters\n",
    "# def fit_eval(node_list, vectorizer, data=df, results_df=keras_df):\n",
    "\n",
    "#     '''\n",
    "    \n",
    "#     Parameters:\n",
    "#     node_list - a list containing node counts for hidden layers\n",
    "\n",
    "#     Returns:\n",
    "#     results_df - df (passed in) with the results appended from the nn, params of NN also included\n",
    "    \n",
    "#     '''\n",
    "    \n",
    "#     # split train and test data\n",
    "#     X_train, X_test, y_train, y_test = train_test_split(data.words, data['class'], test_size=0.2, random_state=0)\n",
    "    \n",
    "#     # preprocess data\n",
    "#     X_train = vectorizer.fit_transform(X_train).toarray()\n",
    "#     X_test = vectorizer.transform(X_test).toarray()\n",
    "    \n",
    "#     # further split the training data into training and validation sets\n",
    "#     X_train, X_val, y_train, y_val = train_test_split(X_train, y_train, test_size=0.1, random_state=0)\n",
    "    \n",
    "#     # one-hot encode our labels\n",
    "#     y_train = to_categorical(y_train)\n",
    "#     y_val = to_categorical(y_val)\n",
    "#     y_test = to_categorical(y_test)\n",
    "    \n",
    "#     # add early stopping -> if model doesn't decrease val_loss every 5 epochs, exit the fitting process\n",
    "#     early_stopping = EarlyStopping(monitor='val_loss', patience=5, mode='min', verbose=1)\n",
    "\n",
    "#     # create the KerasClassifier, use build_model (defined in cell below) as build function\n",
    "#     nn = KerasClassifier(model=build_model(X_train.shape[1], node_list), epochs=1000, batch_size=32, optimizer=Adam(), \n",
    "#                          validation_split=0.2, verbose=0, loss='categorical_crossentropy', callbacks=[early_stopping])\n",
    "    \n",
    "#     # fit nn\n",
    "#     nn.fit(X_train, y_train, validation_data=(X_val, y_val))\n",
    "    \n",
    "#     # accuracy\n",
    "#     train_acc = nn.score(X_train, y_train)\n",
    "#     test_acc = nn.score(X_test, y_test)\n",
    "    \n",
    "#     # prediction probabilities\n",
    "#     train_preds = nn.predict_proba(X_train)\n",
    "#     test_preds = nn.predict_proba(X_test)\n",
    "    \n",
    "#     # loss\n",
    "#     train_loss = categorical_crossentropy(y_train, train_preds)\n",
    "#     test_loss = categorical_crossentropy(y_test, test_preds)\n",
    "\n",
    "#     # ========================================= get model/vectorizer params =========================================\n",
    "    \n",
    "#     # get number of layers\n",
    "#     num_layers = len(nn.model.layers)\n",
    "\n",
    "#     # get shape of nn\n",
    "#     nn_shape = []\n",
    "#     for i, layer in enumerate(nn.model.layers):\n",
    "# #         if i % 2 == 0:\n",
    "#         nn_shape.append(layer.units)\n",
    "\n",
    "#     # optimizer, epochs, batch_size\n",
    "#     optim = str(nn.optimizer).split()[0].split('.')[-1]\n",
    "#     epochs = nn.current_epoch\n",
    "#     batch_size = nn.batch_size\n",
    "    \n",
    "#     # vectorizer name, some parameters\n",
    "#     vec_name = str(vec)[:-2]\n",
    "#     vec_feats = vectorizer.max_features\n",
    "#     vec_min = vectorizer.min_df\n",
    "#     vec_max = vectorizer.max_df\n",
    "    \n",
    "    \n",
    "#     # append results to the df\n",
    "#     results_df.loc[len(results_df.index)] = [train_acc, train_loss, test_acc, test_loss, num_layers, nn_shape, optim, \n",
    "#                                              epochs, batch_size, vec_name, vec_feats, vec_min, vec_max]\n",
    "    \n",
    "    \n",
    "    \n",
    "#     return results_df"
   ]
  },
  {
   "cell_type": "code",
   "execution_count": 8,
   "id": "0f858aa1",
   "metadata": {
    "ExecuteTime": {
     "end_time": "2023-10-26T14:52:25.514510Z",
     "start_time": "2023-10-26T14:52:25.494492Z"
    }
   },
   "outputs": [],
   "source": [
    "# function to build a keras model\n",
    "def build_model(input_dim, node_list):\n",
    "    '''\n",
    "    Build and return a keras NN with a specified node count for each hidden layer.\n",
    "    \n",
    "    Parameters:\n",
    "    input_dim - input dimensions (num features) to be passied into Input layer\n",
    "    node_list - list where nth index value corresponds to nth hidden layer node count\n",
    "    \n",
    "    Returns:\n",
    "    model - a keras NN\n",
    "    \n",
    "    '''\n",
    "    \n",
    "    model = Sequential()\n",
    "    model.add(Input(shape=(input_dim,)))\n",
    "    \n",
    "    # add Dense hidden layers\n",
    "    for node in node_list:\n",
    "        model.add(Dense(node, activation=relu))\n",
    "        model.add(BatchNormalization())\n",
    "        model.add(Dropout(0.5))\n",
    "        \n",
    "    # output layer - 4 possible classes\n",
    "    model.add(Dense(4, activation='softmax'))\n",
    "\n",
    "    model.compile(optimizer=Adam(), loss='sparse_categorical_crossentropy', metrics=['accuracy'])\n",
    "    \n",
    "    return model"
   ]
  },
  {
   "cell_type": "markdown",
   "id": "884fd635",
   "metadata": {},
   "source": [
    "# Format and split data"
   ]
  },
  {
   "cell_type": "code",
   "execution_count": 10,
   "id": "1d708290",
   "metadata": {
    "ExecuteTime": {
     "end_time": "2023-10-26T14:54:32.459696Z",
     "start_time": "2023-10-26T14:54:32.443681Z"
    }
   },
   "outputs": [],
   "source": [
    "# global random state for reproducibility\n",
    "random_state = 0"
   ]
  },
  {
   "cell_type": "code",
   "execution_count": 74,
   "id": "253b2642",
   "metadata": {
    "ExecuteTime": {
     "end_time": "2023-10-26T15:24:30.336752Z",
     "start_time": "2023-10-26T15:24:30.282702Z"
    }
   },
   "outputs": [],
   "source": [
    "# create our vectorizer\n",
    "vectorizer = TfidfVectorizer()\n",
    "\n",
    "# LSA\n",
    "svd = TruncatedSVD(n_components=100, random_state=random_state)"
   ]
  },
  {
   "cell_type": "code",
   "execution_count": 75,
   "id": "7497cb00",
   "metadata": {
    "ExecuteTime": {
     "end_time": "2023-10-26T15:24:36.775652Z",
     "start_time": "2023-10-26T15:24:30.460702Z"
    }
   },
   "outputs": [],
   "source": [
    "# split train and test\n",
    "X_train, X_test, y_train, y_test = train_test_split(df2.words, df2['class'], test_size=0.2, random_state=random_state)\n",
    "\n",
    "# vectorize input data\n",
    "X_train = vectorizer.fit_transform(X_train).toarray()\n",
    "X_test = vectorizer.fit_transform(X_test).toarray()\n",
    "\n",
    "# SVD transform the input data\n",
    "X_train = svd.fit_transform(X_train)\n",
    "X_test = svd.transform(X_test)\n",
    "\n",
    "# further split the training data into training and validation sets\n",
    "X_train, X_val, y_train, y_val = train_test_split(X_train, y_train, test_size=0.2, random_state=random_state)"
   ]
  },
  {
   "cell_type": "markdown",
   "id": "f002aa46",
   "metadata": {},
   "source": [
    "# NN"
   ]
  },
  {
   "cell_type": "code",
   "execution_count": 76,
   "id": "8a5df764",
   "metadata": {
    "ExecuteTime": {
     "end_time": "2023-10-26T15:24:36.791667Z",
     "start_time": "2023-10-26T15:24:36.778655Z"
    }
   },
   "outputs": [],
   "source": [
    "# add early stopping -> if model doesn't decrease val_loss every 5 epochs, exit the fitting process\n",
    "early_stopping = EarlyStopping(monitor='val_loss', patience=5, mode='min', verbose=1)"
   ]
  },
  {
   "cell_type": "code",
   "execution_count": 94,
   "id": "dca7d239",
   "metadata": {
    "ExecuteTime": {
     "end_time": "2023-10-26T15:37:48.797737Z",
     "start_time": "2023-10-26T15:37:48.727673Z"
    }
   },
   "outputs": [],
   "source": [
    "# create the KerasClassifier, use build_model to create our model\n",
    "nn = KerasClassifier(model=build_model(X_train.shape[1], [100, 100]), epochs=100, batch_size=32, optimizer=Adam(),\n",
    "                     callbacks=[early_stopping], validation_split=0.2, verbose=1, loss='sparse_categorical_crossentropy')"
   ]
  },
  {
   "cell_type": "code",
   "execution_count": 78,
   "id": "5edd3c64",
   "metadata": {
    "ExecuteTime": {
     "end_time": "2023-10-26T15:25:46.875131Z",
     "start_time": "2023-10-26T15:24:36.890279Z"
    },
    "scrolled": false
   },
   "outputs": [
    {
     "name": "stdout",
     "output_type": "stream",
     "text": [
      "Epoch 1/100\n",
      "386/386 [==============================] - 4s 9ms/step - loss: 1.2836 - accuracy: 0.5281 - val_loss: 0.9137 - val_accuracy: 0.7315\n",
      "Epoch 2/100\n",
      "386/386 [==============================] - 3s 7ms/step - loss: 0.8380 - accuracy: 0.6922 - val_loss: 0.5511 - val_accuracy: 0.8268\n",
      "Epoch 3/100\n",
      "386/386 [==============================] - 2s 5ms/step - loss: 0.7259 - accuracy: 0.7404 - val_loss: 0.5250 - val_accuracy: 0.8333\n",
      "Epoch 4/100\n",
      "386/386 [==============================] - 2s 6ms/step - loss: 0.6689 - accuracy: 0.7573 - val_loss: 0.5083 - val_accuracy: 0.8346\n",
      "Epoch 5/100\n",
      "386/386 [==============================] - 3s 7ms/step - loss: 0.6418 - accuracy: 0.7758 - val_loss: 0.4986 - val_accuracy: 0.8327\n",
      "Epoch 6/100\n",
      "386/386 [==============================] - 3s 7ms/step - loss: 0.6238 - accuracy: 0.7789 - val_loss: 0.4894 - val_accuracy: 0.8366\n",
      "Epoch 7/100\n",
      "386/386 [==============================] - 3s 7ms/step - loss: 0.5986 - accuracy: 0.7910 - val_loss: 0.4926 - val_accuracy: 0.8314\n",
      "Epoch 8/100\n",
      "386/386 [==============================] - 2s 6ms/step - loss: 0.6022 - accuracy: 0.7888 - val_loss: 0.4776 - val_accuracy: 0.8392\n",
      "Epoch 9/100\n",
      "386/386 [==============================] - 2s 5ms/step - loss: 0.5763 - accuracy: 0.7974 - val_loss: 0.4722 - val_accuracy: 0.8398\n",
      "Epoch 10/100\n",
      "386/386 [==============================] - 2s 6ms/step - loss: 0.5684 - accuracy: 0.8014 - val_loss: 0.4710 - val_accuracy: 0.8392\n",
      "Epoch 11/100\n",
      "386/386 [==============================] - 2s 6ms/step - loss: 0.5581 - accuracy: 0.8019 - val_loss: 0.4695 - val_accuracy: 0.8392\n",
      "Epoch 12/100\n",
      "386/386 [==============================] - 3s 7ms/step - loss: 0.5557 - accuracy: 0.8027 - val_loss: 0.4687 - val_accuracy: 0.8366\n",
      "Epoch 13/100\n",
      "386/386 [==============================] - 3s 8ms/step - loss: 0.5558 - accuracy: 0.8024 - val_loss: 0.4689 - val_accuracy: 0.8327\n",
      "Epoch 14/100\n",
      "386/386 [==============================] - 3s 8ms/step - loss: 0.5322 - accuracy: 0.8019 - val_loss: 0.4642 - val_accuracy: 0.8340\n",
      "Epoch 15/100\n",
      "386/386 [==============================] - 3s 8ms/step - loss: 0.5528 - accuracy: 0.7948 - val_loss: 0.4594 - val_accuracy: 0.8346\n",
      "Epoch 16/100\n",
      "386/386 [==============================] - 3s 7ms/step - loss: 0.5339 - accuracy: 0.8121 - val_loss: 0.4697 - val_accuracy: 0.8275\n",
      "Epoch 17/100\n",
      "386/386 [==============================] - 3s 7ms/step - loss: 0.5245 - accuracy: 0.8102 - val_loss: 0.4581 - val_accuracy: 0.8301\n",
      "Epoch 18/100\n",
      "386/386 [==============================] - 3s 8ms/step - loss: 0.5185 - accuracy: 0.8126 - val_loss: 0.4562 - val_accuracy: 0.8359\n",
      "Epoch 19/100\n",
      "386/386 [==============================] - 3s 8ms/step - loss: 0.5147 - accuracy: 0.8164 - val_loss: 0.4511 - val_accuracy: 0.8385\n",
      "Epoch 20/100\n",
      "386/386 [==============================] - 3s 8ms/step - loss: 0.5322 - accuracy: 0.8105 - val_loss: 0.4501 - val_accuracy: 0.8431\n",
      "Epoch 21/100\n",
      "386/386 [==============================] - 3s 8ms/step - loss: 0.5027 - accuracy: 0.8151 - val_loss: 0.4529 - val_accuracy: 0.8366\n",
      "Epoch 22/100\n",
      "386/386 [==============================] - 3s 7ms/step - loss: 0.5115 - accuracy: 0.8141 - val_loss: 0.4661 - val_accuracy: 0.8320\n",
      "Epoch 23/100\n",
      "386/386 [==============================] - 3s 7ms/step - loss: 0.5008 - accuracy: 0.8147 - val_loss: 0.4600 - val_accuracy: 0.8392\n",
      "Epoch 24/100\n",
      "386/386 [==============================] - 3s 7ms/step - loss: 0.4874 - accuracy: 0.8228 - val_loss: 0.4570 - val_accuracy: 0.8314\n",
      "Epoch 25/100\n",
      "386/386 [==============================] - 3s 8ms/step - loss: 0.5012 - accuracy: 0.8172 - val_loss: 0.4674 - val_accuracy: 0.8353\n",
      "Epoch 25: early stopping\n"
     ]
    }
   ],
   "source": [
    "# fit nn\n",
    "nn.fit(X_train, y_train, validation_data=(X_val, y_val))\n",
    "\n",
    "# free up GPU memory\n",
    "backend.clear_session()"
   ]
  },
  {
   "cell_type": "markdown",
   "id": "947d2504",
   "metadata": {},
   "source": [
    "- our best NN achieved a val_loss of about 0.45 with a val_acc of 83.4%"
   ]
  },
  {
   "cell_type": "code",
   "execution_count": 17,
   "id": "5a716403",
   "metadata": {
    "ExecuteTime": {
     "end_time": "2023-10-26T14:56:47.327146Z",
     "start_time": "2023-10-26T14:56:46.867869Z"
    }
   },
   "outputs": [
    {
     "name": "stdout",
     "output_type": "stream",
     "text": [
      "121/121 [==============================] - 0s 3ms/step\n"
     ]
    },
    {
     "data": {
      "text/plain": [
       "0.8188894654903995"
      ]
     },
     "execution_count": 17,
     "metadata": {},
     "output_type": "execute_result"
    }
   ],
   "source": [
    "nn.score(X_test, y_test)"
   ]
  },
  {
   "cell_type": "markdown",
   "id": "5a704770",
   "metadata": {},
   "source": [
    "- 81.9% test acc"
   ]
  },
  {
   "cell_type": "code",
   "execution_count": 16,
   "id": "a27e6de7",
   "metadata": {
    "ExecuteTime": {
     "end_time": "2023-10-26T14:56:32.542658Z",
     "start_time": "2023-10-26T14:56:31.976890Z"
    }
   },
   "outputs": [
    {
     "name": "stdout",
     "output_type": "stream",
     "text": [
      "121/121 [==============================] - 0s 3ms/step\n",
      "              precision    recall  f1-score   support\n",
      "\n",
      "           0       0.83      0.86      0.84       638\n",
      "           1       0.82      0.75      0.78       304\n",
      "           2       0.72      0.74      0.73       382\n",
      "           3       0.87      0.86      0.87       603\n",
      "\n",
      "    accuracy                           0.82      1927\n",
      "   macro avg       0.81      0.80      0.81      1927\n",
      "weighted avg       0.82      0.82      0.82      1927\n",
      "\n"
     ]
    }
   ],
   "source": [
    "y_preds = nn.predict(X_test)\n",
    "print(classification_report(y_test, y_preds))"
   ]
  },
  {
   "cell_type": "markdown",
   "id": "27e0a77e",
   "metadata": {},
   "source": [
    "- noteicably worse recall on classes 1 and 2\n",
    "- will use class_weight to attempt to improve"
   ]
  },
  {
   "cell_type": "markdown",
   "id": "e1b42acb",
   "metadata": {},
   "source": [
    "### Add class weights"
   ]
  },
  {
   "cell_type": "code",
   "execution_count": 18,
   "id": "3e29c7d0",
   "metadata": {
    "ExecuteTime": {
     "end_time": "2023-10-26T14:59:41.509520Z",
     "start_time": "2023-10-26T14:59:41.503513Z"
    }
   },
   "outputs": [
    {
     "data": {
      "text/plain": [
       "array([0.76704828, 1.59358842, 1.24074074, 0.79188078])"
      ]
     },
     "execution_count": 18,
     "metadata": {},
     "output_type": "execute_result"
    }
   ],
   "source": [
    "# what 'balanced' class weights would look like\n",
    "y_train.shape[0] / (4 * np.bincount(y_train))"
   ]
  },
  {
   "cell_type": "code",
   "execution_count": 23,
   "id": "3b71e074",
   "metadata": {
    "ExecuteTime": {
     "end_time": "2023-10-26T15:06:02.983756Z",
     "start_time": "2023-10-26T15:06:02.898875Z"
    }
   },
   "outputs": [],
   "source": [
    "# less-intense class weights than the 'balanced' approach\n",
    "class_weight={0: 0.8, 1: 1.4, 2: 1.2, 3: 0.8}\n",
    "\n",
    "# create the KerasClassifier\n",
    "nn2 = KerasClassifier(model=build_model(X_train.shape[1], [100, 100]), epochs=100, batch_size=16, optimizer=Adam(), \n",
    "                     callbacks=[early_stopping], class_weight=class_weight, validation_split=0.2, verbose=1, \n",
    "                     loss='sparse_categorical_crossentropy')"
   ]
  },
  {
   "cell_type": "code",
   "execution_count": 24,
   "id": "e98717f6",
   "metadata": {
    "ExecuteTime": {
     "end_time": "2023-10-26T15:07:16.329214Z",
     "start_time": "2023-10-26T15:06:03.403898Z"
    }
   },
   "outputs": [
    {
     "name": "stdout",
     "output_type": "stream",
     "text": [
      "Epoch 1/100\n",
      "386/386 [==============================] - 4s 9ms/step - loss: 1.3290 - accuracy: 0.5127 - val_loss: 0.9237 - val_accuracy: 0.6096\n",
      "Epoch 2/100\n",
      "386/386 [==============================] - 3s 8ms/step - loss: 0.8675 - accuracy: 0.6770 - val_loss: 0.5704 - val_accuracy: 0.8139\n",
      "Epoch 3/100\n",
      "386/386 [==============================] - 3s 8ms/step - loss: 0.7354 - accuracy: 0.7326 - val_loss: 0.5466 - val_accuracy: 0.8236\n",
      "Epoch 4/100\n",
      "386/386 [==============================] - 3s 9ms/step - loss: 0.6771 - accuracy: 0.7529 - val_loss: 0.5331 - val_accuracy: 0.8243\n",
      "Epoch 5/100\n",
      "386/386 [==============================] - 3s 8ms/step - loss: 0.6531 - accuracy: 0.7716 - val_loss: 0.5402 - val_accuracy: 0.8145\n",
      "Epoch 6/100\n",
      "386/386 [==============================] - 3s 8ms/step - loss: 0.6318 - accuracy: 0.7773 - val_loss: 0.5134 - val_accuracy: 0.8307\n",
      "Epoch 7/100\n",
      "386/386 [==============================] - 3s 7ms/step - loss: 0.6063 - accuracy: 0.7854 - val_loss: 0.5153 - val_accuracy: 0.8184\n",
      "Epoch 8/100\n",
      "386/386 [==============================] - 3s 8ms/step - loss: 0.5970 - accuracy: 0.7880 - val_loss: 0.5153 - val_accuracy: 0.8230\n",
      "Epoch 9/100\n",
      "386/386 [==============================] - 3s 8ms/step - loss: 0.6066 - accuracy: 0.7846 - val_loss: 0.5134 - val_accuracy: 0.8191\n",
      "Epoch 10/100\n",
      "386/386 [==============================] - 3s 8ms/step - loss: 0.5831 - accuracy: 0.7907 - val_loss: 0.5031 - val_accuracy: 0.8262\n",
      "Epoch 11/100\n",
      "386/386 [==============================] - 3s 8ms/step - loss: 0.5841 - accuracy: 0.7943 - val_loss: 0.4871 - val_accuracy: 0.8314\n",
      "Epoch 12/100\n",
      "386/386 [==============================] - 3s 8ms/step - loss: 0.5621 - accuracy: 0.7983 - val_loss: 0.5000 - val_accuracy: 0.8210\n",
      "Epoch 13/100\n",
      "386/386 [==============================] - 3s 8ms/step - loss: 0.5714 - accuracy: 0.7920 - val_loss: 0.4929 - val_accuracy: 0.8275\n",
      "Epoch 14/100\n",
      "386/386 [==============================] - 3s 8ms/step - loss: 0.5515 - accuracy: 0.7983 - val_loss: 0.4937 - val_accuracy: 0.8301\n",
      "Epoch 15/100\n",
      "386/386 [==============================] - 3s 7ms/step - loss: 0.5560 - accuracy: 0.7972 - val_loss: 0.4956 - val_accuracy: 0.8223\n",
      "Epoch 16/100\n",
      "386/386 [==============================] - 3s 8ms/step - loss: 0.5460 - accuracy: 0.8009 - val_loss: 0.4775 - val_accuracy: 0.8359\n",
      "Epoch 17/100\n",
      "386/386 [==============================] - 3s 8ms/step - loss: 0.5338 - accuracy: 0.8071 - val_loss: 0.4783 - val_accuracy: 0.8294\n",
      "Epoch 18/100\n",
      "386/386 [==============================] - 3s 8ms/step - loss: 0.5304 - accuracy: 0.8063 - val_loss: 0.4750 - val_accuracy: 0.8236\n",
      "Epoch 19/100\n",
      "386/386 [==============================] - 3s 8ms/step - loss: 0.5215 - accuracy: 0.8102 - val_loss: 0.4769 - val_accuracy: 0.8256\n",
      "Epoch 20/100\n",
      "386/386 [==============================] - 3s 8ms/step - loss: 0.5200 - accuracy: 0.8087 - val_loss: 0.4891 - val_accuracy: 0.8230\n",
      "Epoch 21/100\n",
      "386/386 [==============================] - 3s 7ms/step - loss: 0.5214 - accuracy: 0.8082 - val_loss: 0.4901 - val_accuracy: 0.8178\n",
      "Epoch 22/100\n",
      "386/386 [==============================] - 3s 8ms/step - loss: 0.5040 - accuracy: 0.8146 - val_loss: 0.4778 - val_accuracy: 0.8236\n",
      "Epoch 23/100\n",
      "386/386 [==============================] - 2s 6ms/step - loss: 0.5090 - accuracy: 0.8102 - val_loss: 0.4812 - val_accuracy: 0.8301\n",
      "Epoch 23: early stopping\n"
     ]
    }
   ],
   "source": [
    "# fit nn2\n",
    "nn2.fit(X_train, y_train, validation_data=(X_val, y_val))\n",
    "\n",
    "# free up GPU memory\n",
    "backend.clear_session()"
   ]
  },
  {
   "cell_type": "markdown",
   "id": "ce5b87e0",
   "metadata": {},
   "source": [
    "- best val acc with optimized class weights was 83.0%"
   ]
  },
  {
   "cell_type": "code",
   "execution_count": 25,
   "id": "6afbb3d2",
   "metadata": {
    "ExecuteTime": {
     "end_time": "2023-10-26T15:07:16.721928Z",
     "start_time": "2023-10-26T15:07:16.331216Z"
    }
   },
   "outputs": [
    {
     "name": "stdout",
     "output_type": "stream",
     "text": [
      "121/121 [==============================] - 0s 2ms/step\n"
     ]
    },
    {
     "data": {
      "text/plain": [
       "0.8183705241307733"
      ]
     },
     "execution_count": 25,
     "metadata": {},
     "output_type": "execute_result"
    }
   ],
   "source": [
    "# test acc\n",
    "nn.score(X_test, y_test)"
   ]
  },
  {
   "cell_type": "code",
   "execution_count": 26,
   "id": "b68c0f5c",
   "metadata": {
    "ExecuteTime": {
     "end_time": "2023-10-26T15:07:16.976049Z",
     "start_time": "2023-10-26T15:07:16.723930Z"
    }
   },
   "outputs": [
    {
     "name": "stdout",
     "output_type": "stream",
     "text": [
      "121/121 [==============================] - 0s 1ms/step\n",
      "              precision    recall  f1-score   support\n",
      "\n",
      "           0       0.84      0.83      0.84       638\n",
      "           1       0.78      0.80      0.79       304\n",
      "           2       0.70      0.79      0.74       382\n",
      "           3       0.91      0.83      0.87       603\n",
      "\n",
      "    accuracy                           0.82      1927\n",
      "   macro avg       0.81      0.81      0.81      1927\n",
      "weighted avg       0.82      0.82      0.82      1927\n",
      "\n"
     ]
    }
   ],
   "source": [
    "y_preds = nn.predict(X_test)\n",
    "print(classification_report(y_test, y_preds))"
   ]
  },
  {
   "cell_type": "markdown",
   "id": "18380fd6",
   "metadata": {},
   "source": [
    "- class weight did improve recall for classes 1 and 2, but overall acc slightly decreased"
   ]
  },
  {
   "cell_type": "markdown",
   "id": "cd0c5d7f",
   "metadata": {},
   "source": [
    "# Stacking classifier"
   ]
  },
  {
   "cell_type": "code",
   "execution_count": 79,
   "id": "da0dd083",
   "metadata": {
    "ExecuteTime": {
     "end_time": "2023-10-26T15:25:46.890483Z",
     "start_time": "2023-10-26T15:25:46.878135Z"
    }
   },
   "outputs": [],
   "source": [
    "# create our vectorizer\n",
    "vectorizer = TfidfVectorizer(ngram_range=(1,2))\n",
    "\n",
    "# LSA\n",
    "svd = TruncatedSVD(n_components=100, random_state=random_state)"
   ]
  },
  {
   "cell_type": "code",
   "execution_count": 80,
   "id": "fb0ff18e",
   "metadata": {
    "ExecuteTime": {
     "end_time": "2023-10-26T15:27:35.783191Z",
     "start_time": "2023-10-26T15:25:46.892469Z"
    }
   },
   "outputs": [],
   "source": [
    "# split train and test\n",
    "X_train, X_test, y_train, y_test = train_test_split(df2.words, df2['class'], test_size=0.2, random_state=random_state)\n",
    "\n",
    "# vectorize and SVD transform the input data\n",
    "X_train = svd.fit_transform(vectorizer.fit_transform(X_train).toarray())\n",
    "X_test = svd.transform(vectorizer.transform(X_test).toarray())\n",
    "\n",
    "# # further split the training data into training and validation sets\n",
    "X_train, X_val, y_train, y_val = train_test_split(X_train, y_train, test_size=0.2, random_state=random_state)"
   ]
  },
  {
   "cell_type": "code",
   "execution_count": 81,
   "id": "ad2d6e7a",
   "metadata": {
    "ExecuteTime": {
     "end_time": "2023-10-26T15:27:35.799206Z",
     "start_time": "2023-10-26T15:27:35.785193Z"
    }
   },
   "outputs": [],
   "source": [
    "# build stacking classifier\n",
    "stack = StackingClassifier([\n",
    "    ('logreg', LogisticRegression(max_iter=1000, penalty=None)),\n",
    "    ('knn', KNeighborsClassifier(n_neighbors=20)),\n",
    "    ('dt', DecisionTreeClassifier())\n",
    "])"
   ]
  },
  {
   "cell_type": "code",
   "execution_count": 82,
   "id": "a5fbd5b8",
   "metadata": {
    "ExecuteTime": {
     "end_time": "2023-10-26T15:27:46.534977Z",
     "start_time": "2023-10-26T15:27:35.801208Z"
    }
   },
   "outputs": [
    {
     "data": {
      "text/html": [
       "<style>#sk-container-id-15 {color: black;}#sk-container-id-15 pre{padding: 0;}#sk-container-id-15 div.sk-toggleable {background-color: white;}#sk-container-id-15 label.sk-toggleable__label {cursor: pointer;display: block;width: 100%;margin-bottom: 0;padding: 0.3em;box-sizing: border-box;text-align: center;}#sk-container-id-15 label.sk-toggleable__label-arrow:before {content: \"▸\";float: left;margin-right: 0.25em;color: #696969;}#sk-container-id-15 label.sk-toggleable__label-arrow:hover:before {color: black;}#sk-container-id-15 div.sk-estimator:hover label.sk-toggleable__label-arrow:before {color: black;}#sk-container-id-15 div.sk-toggleable__content {max-height: 0;max-width: 0;overflow: hidden;text-align: left;background-color: #f0f8ff;}#sk-container-id-15 div.sk-toggleable__content pre {margin: 0.2em;color: black;border-radius: 0.25em;background-color: #f0f8ff;}#sk-container-id-15 input.sk-toggleable__control:checked~div.sk-toggleable__content {max-height: 200px;max-width: 100%;overflow: auto;}#sk-container-id-15 input.sk-toggleable__control:checked~label.sk-toggleable__label-arrow:before {content: \"▾\";}#sk-container-id-15 div.sk-estimator input.sk-toggleable__control:checked~label.sk-toggleable__label {background-color: #d4ebff;}#sk-container-id-15 div.sk-label input.sk-toggleable__control:checked~label.sk-toggleable__label {background-color: #d4ebff;}#sk-container-id-15 input.sk-hidden--visually {border: 0;clip: rect(1px 1px 1px 1px);clip: rect(1px, 1px, 1px, 1px);height: 1px;margin: -1px;overflow: hidden;padding: 0;position: absolute;width: 1px;}#sk-container-id-15 div.sk-estimator {font-family: monospace;background-color: #f0f8ff;border: 1px dotted black;border-radius: 0.25em;box-sizing: border-box;margin-bottom: 0.5em;}#sk-container-id-15 div.sk-estimator:hover {background-color: #d4ebff;}#sk-container-id-15 div.sk-parallel-item::after {content: \"\";width: 100%;border-bottom: 1px solid gray;flex-grow: 1;}#sk-container-id-15 div.sk-label:hover label.sk-toggleable__label {background-color: #d4ebff;}#sk-container-id-15 div.sk-serial::before {content: \"\";position: absolute;border-left: 1px solid gray;box-sizing: border-box;top: 0;bottom: 0;left: 50%;z-index: 0;}#sk-container-id-15 div.sk-serial {display: flex;flex-direction: column;align-items: center;background-color: white;padding-right: 0.2em;padding-left: 0.2em;position: relative;}#sk-container-id-15 div.sk-item {position: relative;z-index: 1;}#sk-container-id-15 div.sk-parallel {display: flex;align-items: stretch;justify-content: center;background-color: white;position: relative;}#sk-container-id-15 div.sk-item::before, #sk-container-id-15 div.sk-parallel-item::before {content: \"\";position: absolute;border-left: 1px solid gray;box-sizing: border-box;top: 0;bottom: 0;left: 50%;z-index: -1;}#sk-container-id-15 div.sk-parallel-item {display: flex;flex-direction: column;z-index: 1;position: relative;background-color: white;}#sk-container-id-15 div.sk-parallel-item:first-child::after {align-self: flex-end;width: 50%;}#sk-container-id-15 div.sk-parallel-item:last-child::after {align-self: flex-start;width: 50%;}#sk-container-id-15 div.sk-parallel-item:only-child::after {width: 0;}#sk-container-id-15 div.sk-dashed-wrapped {border: 1px dashed gray;margin: 0 0.4em 0.5em 0.4em;box-sizing: border-box;padding-bottom: 0.4em;background-color: white;}#sk-container-id-15 div.sk-label label {font-family: monospace;font-weight: bold;display: inline-block;line-height: 1.2em;}#sk-container-id-15 div.sk-label-container {text-align: center;}#sk-container-id-15 div.sk-container {/* jupyter's `normalize.less` sets `[hidden] { display: none; }` but bootstrap.min.css set `[hidden] { display: none !important; }` so we also need the `!important` here to be able to override the default hidden behavior on the sphinx rendered scikit-learn.org. See: https://github.com/scikit-learn/scikit-learn/issues/21755 */display: inline-block !important;position: relative;}#sk-container-id-15 div.sk-text-repr-fallback {display: none;}</style><div id=\"sk-container-id-15\" class=\"sk-top-container\"><div class=\"sk-text-repr-fallback\"><pre>StackingClassifier(estimators=[(&#x27;logreg&#x27;,\n",
       "                                LogisticRegression(max_iter=1000,\n",
       "                                                   penalty=None)),\n",
       "                               (&#x27;knn&#x27;, KNeighborsClassifier(n_neighbors=20)),\n",
       "                               (&#x27;dt&#x27;, DecisionTreeClassifier())])</pre><b>In a Jupyter environment, please rerun this cell to show the HTML representation or trust the notebook. <br />On GitHub, the HTML representation is unable to render, please try loading this page with nbviewer.org.</b></div><div class=\"sk-container\" hidden><div class=\"sk-item sk-dashed-wrapped\"><div class=\"sk-label-container\"><div class=\"sk-label sk-toggleable\"><input class=\"sk-toggleable__control sk-hidden--visually\" id=\"sk-estimator-id-45\" type=\"checkbox\" ><label for=\"sk-estimator-id-45\" class=\"sk-toggleable__label sk-toggleable__label-arrow\">StackingClassifier</label><div class=\"sk-toggleable__content\"><pre>StackingClassifier(estimators=[(&#x27;logreg&#x27;,\n",
       "                                LogisticRegression(max_iter=1000,\n",
       "                                                   penalty=None)),\n",
       "                               (&#x27;knn&#x27;, KNeighborsClassifier(n_neighbors=20)),\n",
       "                               (&#x27;dt&#x27;, DecisionTreeClassifier())])</pre></div></div></div><div class=\"sk-serial\"><div class=\"sk-item\"><div class=\"sk-parallel\"><div class=\"sk-parallel-item\"><div class=\"sk-item\"><div class=\"sk-label-container\"><div class=\"sk-label sk-toggleable\"><label>logreg</label></div></div><div class=\"sk-serial\"><div class=\"sk-item\"><div class=\"sk-estimator sk-toggleable\"><input class=\"sk-toggleable__control sk-hidden--visually\" id=\"sk-estimator-id-46\" type=\"checkbox\" ><label for=\"sk-estimator-id-46\" class=\"sk-toggleable__label sk-toggleable__label-arrow\">LogisticRegression</label><div class=\"sk-toggleable__content\"><pre>LogisticRegression(max_iter=1000, penalty=None)</pre></div></div></div></div></div></div><div class=\"sk-parallel-item\"><div class=\"sk-item\"><div class=\"sk-label-container\"><div class=\"sk-label sk-toggleable\"><label>knn</label></div></div><div class=\"sk-serial\"><div class=\"sk-item\"><div class=\"sk-estimator sk-toggleable\"><input class=\"sk-toggleable__control sk-hidden--visually\" id=\"sk-estimator-id-47\" type=\"checkbox\" ><label for=\"sk-estimator-id-47\" class=\"sk-toggleable__label sk-toggleable__label-arrow\">KNeighborsClassifier</label><div class=\"sk-toggleable__content\"><pre>KNeighborsClassifier(n_neighbors=20)</pre></div></div></div></div></div></div><div class=\"sk-parallel-item\"><div class=\"sk-item\"><div class=\"sk-label-container\"><div class=\"sk-label sk-toggleable\"><label>dt</label></div></div><div class=\"sk-serial\"><div class=\"sk-item\"><div class=\"sk-estimator sk-toggleable\"><input class=\"sk-toggleable__control sk-hidden--visually\" id=\"sk-estimator-id-48\" type=\"checkbox\" ><label for=\"sk-estimator-id-48\" class=\"sk-toggleable__label sk-toggleable__label-arrow\">DecisionTreeClassifier</label><div class=\"sk-toggleable__content\"><pre>DecisionTreeClassifier()</pre></div></div></div></div></div></div></div></div><div class=\"sk-item\"><div class=\"sk-parallel\"><div class=\"sk-parallel-item\"><div class=\"sk-item\"><div class=\"sk-label-container\"><div class=\"sk-label sk-toggleable\"><label>final_estimator</label></div></div><div class=\"sk-serial\"><div class=\"sk-item\"><div class=\"sk-estimator sk-toggleable\"><input class=\"sk-toggleable__control sk-hidden--visually\" id=\"sk-estimator-id-49\" type=\"checkbox\" ><label for=\"sk-estimator-id-49\" class=\"sk-toggleable__label sk-toggleable__label-arrow\">LogisticRegression</label><div class=\"sk-toggleable__content\"><pre>LogisticRegression()</pre></div></div></div></div></div></div></div></div></div></div></div></div>"
      ],
      "text/plain": [
       "StackingClassifier(estimators=[('logreg',\n",
       "                                LogisticRegression(max_iter=1000,\n",
       "                                                   penalty=None)),\n",
       "                               ('knn', KNeighborsClassifier(n_neighbors=20)),\n",
       "                               ('dt', DecisionTreeClassifier())])"
      ]
     },
     "execution_count": 82,
     "metadata": {},
     "output_type": "execute_result"
    }
   ],
   "source": [
    "# train\n",
    "stack.fit(X_train, y_train)"
   ]
  },
  {
   "cell_type": "code",
   "execution_count": 83,
   "id": "b95a6f9a",
   "metadata": {
    "ExecuteTime": {
     "end_time": "2023-10-26T15:27:46.662674Z",
     "start_time": "2023-10-26T15:27:46.536978Z"
    }
   },
   "outputs": [
    {
     "data": {
      "text/plain": [
       "(0.8221933809214795, 0.8147379346133887)"
      ]
     },
     "execution_count": 83,
     "metadata": {},
     "output_type": "execute_result"
    }
   ],
   "source": [
    "# get scores\n",
    "stack.score(X_train, y_train), stack.score(X_test, y_test)"
   ]
  },
  {
   "cell_type": "markdown",
   "id": "c07b8ba9",
   "metadata": {},
   "source": [
    "- our best stacker achieved 81.5% testing accuracy"
   ]
  },
  {
   "cell_type": "markdown",
   "id": "042bfa23",
   "metadata": {},
   "source": [
    "# Manual stacking\n",
    "- we are using the prediction probs from our best stacking classifier as input to a NN"
   ]
  },
  {
   "cell_type": "markdown",
   "id": "82e2a08f",
   "metadata": {
    "heading_collapsed": true
   },
   "source": [
    "### putting ONLY preds from stack into NN"
   ]
  },
  {
   "cell_type": "code",
   "execution_count": 66,
   "id": "4b02b35e",
   "metadata": {
    "ExecuteTime": {
     "end_time": "2023-10-26T15:20:11.237349Z",
     "start_time": "2023-10-26T15:20:11.081208Z"
    },
    "hidden": true
   },
   "outputs": [],
   "source": [
    "# get pred probs from the best StackingClassifier\n",
    "stack_train_preds = stack.predict_proba(X_train)\n",
    "stack_val_preds = stack.predict_proba(X_val)\n",
    "stack_test_preds = stack.predict_proba(X_test)"
   ]
  },
  {
   "cell_type": "code",
   "execution_count": 67,
   "id": "185271ab",
   "metadata": {
    "ExecuteTime": {
     "end_time": "2023-10-26T15:20:11.317422Z",
     "start_time": "2023-10-26T15:20:11.239351Z"
    },
    "hidden": true
   },
   "outputs": [],
   "source": [
    "# create the KerasClassifier, input is stacker's preds\n",
    "nn3 = KerasClassifier(model=build_model(stack_train_preds.shape[1], [100, 100]), epochs=100, batch_size=32,\n",
    "                     optimizer=Adam(), callbacks=[early_stopping],\n",
    "                     validation_split=0.2, verbose=1, loss='sparse_categorical_crossentropy')"
   ]
  },
  {
   "cell_type": "code",
   "execution_count": 68,
   "id": "c6136542",
   "metadata": {
    "ExecuteTime": {
     "end_time": "2023-10-26T15:20:41.734151Z",
     "start_time": "2023-10-26T15:20:11.320425Z"
    },
    "hidden": true
   },
   "outputs": [
    {
     "name": "stdout",
     "output_type": "stream",
     "text": [
      "Epoch 1/100\n",
      "193/193 [==============================] - 2s 6ms/step - loss: 0.8472 - accuracy: 0.7635 - val_loss: 0.9393 - val_accuracy: 0.7931\n",
      "Epoch 2/100\n",
      "193/193 [==============================] - 1s 5ms/step - loss: 0.6993 - accuracy: 0.7987 - val_loss: 0.6657 - val_accuracy: 0.8372\n",
      "Epoch 3/100\n",
      "193/193 [==============================] - 1s 5ms/step - loss: 0.6463 - accuracy: 0.8048 - val_loss: 0.5356 - val_accuracy: 0.8366\n",
      "Epoch 4/100\n",
      "193/193 [==============================] - 1s 5ms/step - loss: 0.6328 - accuracy: 0.8146 - val_loss: 0.5188 - val_accuracy: 0.8366\n",
      "Epoch 5/100\n",
      "193/193 [==============================] - 1s 6ms/step - loss: 0.6214 - accuracy: 0.8149 - val_loss: 0.5184 - val_accuracy: 0.8392\n",
      "Epoch 6/100\n",
      "193/193 [==============================] - 1s 6ms/step - loss: 0.6075 - accuracy: 0.8168 - val_loss: 0.5191 - val_accuracy: 0.8379\n",
      "Epoch 7/100\n",
      "193/193 [==============================] - 1s 6ms/step - loss: 0.5958 - accuracy: 0.8154 - val_loss: 0.5155 - val_accuracy: 0.8372\n",
      "Epoch 8/100\n",
      "193/193 [==============================] - 1s 6ms/step - loss: 0.5963 - accuracy: 0.8175 - val_loss: 0.5137 - val_accuracy: 0.8392\n",
      "Epoch 9/100\n",
      "193/193 [==============================] - 1s 6ms/step - loss: 0.5943 - accuracy: 0.8155 - val_loss: 0.5144 - val_accuracy: 0.8353\n",
      "Epoch 10/100\n",
      "193/193 [==============================] - 1s 7ms/step - loss: 0.5880 - accuracy: 0.8167 - val_loss: 0.5162 - val_accuracy: 0.8405\n",
      "Epoch 11/100\n",
      "193/193 [==============================] - 1s 6ms/step - loss: 0.5771 - accuracy: 0.8168 - val_loss: 0.5108 - val_accuracy: 0.8418\n",
      "Epoch 12/100\n",
      "193/193 [==============================] - 1s 5ms/step - loss: 0.5830 - accuracy: 0.8188 - val_loss: 0.5089 - val_accuracy: 0.8411\n",
      "Epoch 13/100\n",
      "193/193 [==============================] - 1s 6ms/step - loss: 0.5756 - accuracy: 0.8235 - val_loss: 0.5080 - val_accuracy: 0.8398\n",
      "Epoch 14/100\n",
      "193/193 [==============================] - 1s 6ms/step - loss: 0.5780 - accuracy: 0.8180 - val_loss: 0.5061 - val_accuracy: 0.8398\n",
      "Epoch 15/100\n",
      "193/193 [==============================] - 1s 6ms/step - loss: 0.5818 - accuracy: 0.8151 - val_loss: 0.5096 - val_accuracy: 0.8385\n",
      "Epoch 16/100\n",
      "193/193 [==============================] - 1s 6ms/step - loss: 0.5790 - accuracy: 0.8188 - val_loss: 0.5040 - val_accuracy: 0.8398\n",
      "Epoch 17/100\n",
      "193/193 [==============================] - 1s 6ms/step - loss: 0.5819 - accuracy: 0.8204 - val_loss: 0.5039 - val_accuracy: 0.8411\n",
      "Epoch 18/100\n",
      "193/193 [==============================] - 1s 7ms/step - loss: 0.5706 - accuracy: 0.8194 - val_loss: 0.5050 - val_accuracy: 0.8398\n",
      "Epoch 19/100\n",
      "193/193 [==============================] - 1s 7ms/step - loss: 0.5763 - accuracy: 0.8237 - val_loss: 0.5048 - val_accuracy: 0.8366\n",
      "Epoch 20/100\n",
      "193/193 [==============================] - 1s 6ms/step - loss: 0.5723 - accuracy: 0.8194 - val_loss: 0.5009 - val_accuracy: 0.8385\n",
      "Epoch 21/100\n",
      "193/193 [==============================] - 2s 8ms/step - loss: 0.5736 - accuracy: 0.8202 - val_loss: 0.5074 - val_accuracy: 0.8418\n",
      "Epoch 22/100\n",
      "193/193 [==============================] - 1s 7ms/step - loss: 0.5714 - accuracy: 0.8215 - val_loss: 0.5051 - val_accuracy: 0.8398\n",
      "Epoch 23/100\n",
      "193/193 [==============================] - 1s 5ms/step - loss: 0.5748 - accuracy: 0.8212 - val_loss: 0.5012 - val_accuracy: 0.8392\n",
      "Epoch 24/100\n",
      "193/193 [==============================] - 1s 5ms/step - loss: 0.5714 - accuracy: 0.8233 - val_loss: 0.5041 - val_accuracy: 0.8379\n",
      "Epoch 25/100\n",
      "193/193 [==============================] - 1s 7ms/step - loss: 0.5703 - accuracy: 0.8211 - val_loss: 0.5104 - val_accuracy: 0.8392\n",
      "Epoch 25: early stopping\n"
     ]
    },
    {
     "data": {
      "text/html": [
       "<style>#sk-container-id-13 {color: black;}#sk-container-id-13 pre{padding: 0;}#sk-container-id-13 div.sk-toggleable {background-color: white;}#sk-container-id-13 label.sk-toggleable__label {cursor: pointer;display: block;width: 100%;margin-bottom: 0;padding: 0.3em;box-sizing: border-box;text-align: center;}#sk-container-id-13 label.sk-toggleable__label-arrow:before {content: \"▸\";float: left;margin-right: 0.25em;color: #696969;}#sk-container-id-13 label.sk-toggleable__label-arrow:hover:before {color: black;}#sk-container-id-13 div.sk-estimator:hover label.sk-toggleable__label-arrow:before {color: black;}#sk-container-id-13 div.sk-toggleable__content {max-height: 0;max-width: 0;overflow: hidden;text-align: left;background-color: #f0f8ff;}#sk-container-id-13 div.sk-toggleable__content pre {margin: 0.2em;color: black;border-radius: 0.25em;background-color: #f0f8ff;}#sk-container-id-13 input.sk-toggleable__control:checked~div.sk-toggleable__content {max-height: 200px;max-width: 100%;overflow: auto;}#sk-container-id-13 input.sk-toggleable__control:checked~label.sk-toggleable__label-arrow:before {content: \"▾\";}#sk-container-id-13 div.sk-estimator input.sk-toggleable__control:checked~label.sk-toggleable__label {background-color: #d4ebff;}#sk-container-id-13 div.sk-label input.sk-toggleable__control:checked~label.sk-toggleable__label {background-color: #d4ebff;}#sk-container-id-13 input.sk-hidden--visually {border: 0;clip: rect(1px 1px 1px 1px);clip: rect(1px, 1px, 1px, 1px);height: 1px;margin: -1px;overflow: hidden;padding: 0;position: absolute;width: 1px;}#sk-container-id-13 div.sk-estimator {font-family: monospace;background-color: #f0f8ff;border: 1px dotted black;border-radius: 0.25em;box-sizing: border-box;margin-bottom: 0.5em;}#sk-container-id-13 div.sk-estimator:hover {background-color: #d4ebff;}#sk-container-id-13 div.sk-parallel-item::after {content: \"\";width: 100%;border-bottom: 1px solid gray;flex-grow: 1;}#sk-container-id-13 div.sk-label:hover label.sk-toggleable__label {background-color: #d4ebff;}#sk-container-id-13 div.sk-serial::before {content: \"\";position: absolute;border-left: 1px solid gray;box-sizing: border-box;top: 0;bottom: 0;left: 50%;z-index: 0;}#sk-container-id-13 div.sk-serial {display: flex;flex-direction: column;align-items: center;background-color: white;padding-right: 0.2em;padding-left: 0.2em;position: relative;}#sk-container-id-13 div.sk-item {position: relative;z-index: 1;}#sk-container-id-13 div.sk-parallel {display: flex;align-items: stretch;justify-content: center;background-color: white;position: relative;}#sk-container-id-13 div.sk-item::before, #sk-container-id-13 div.sk-parallel-item::before {content: \"\";position: absolute;border-left: 1px solid gray;box-sizing: border-box;top: 0;bottom: 0;left: 50%;z-index: -1;}#sk-container-id-13 div.sk-parallel-item {display: flex;flex-direction: column;z-index: 1;position: relative;background-color: white;}#sk-container-id-13 div.sk-parallel-item:first-child::after {align-self: flex-end;width: 50%;}#sk-container-id-13 div.sk-parallel-item:last-child::after {align-self: flex-start;width: 50%;}#sk-container-id-13 div.sk-parallel-item:only-child::after {width: 0;}#sk-container-id-13 div.sk-dashed-wrapped {border: 1px dashed gray;margin: 0 0.4em 0.5em 0.4em;box-sizing: border-box;padding-bottom: 0.4em;background-color: white;}#sk-container-id-13 div.sk-label label {font-family: monospace;font-weight: bold;display: inline-block;line-height: 1.2em;}#sk-container-id-13 div.sk-label-container {text-align: center;}#sk-container-id-13 div.sk-container {/* jupyter's `normalize.less` sets `[hidden] { display: none; }` but bootstrap.min.css set `[hidden] { display: none !important; }` so we also need the `!important` here to be able to override the default hidden behavior on the sphinx rendered scikit-learn.org. See: https://github.com/scikit-learn/scikit-learn/issues/21755 */display: inline-block !important;position: relative;}#sk-container-id-13 div.sk-text-repr-fallback {display: none;}</style><div id=\"sk-container-id-13\" class=\"sk-top-container\"><div class=\"sk-text-repr-fallback\"><pre>KerasClassifier(\n",
       "\tmodel=&lt;keras.engine.sequential.Sequential object at 0x0000024BF70981F0&gt;\n",
       "\tbuild_fn=None\n",
       "\twarm_start=False\n",
       "\trandom_state=None\n",
       "\toptimizer=&lt;keras.optimizers.optimizer_v2.adam.Adam object at 0x0000024BF693C6A0&gt;\n",
       "\tloss=sparse_categorical_crossentropy\n",
       "\tmetrics=None\n",
       "\tbatch_size=32\n",
       "\tvalidation_batch_size=None\n",
       "\tverbose=1\n",
       "\tcallbacks=[&lt;keras.callbacks.EarlyStopping object at 0x0000024B57397460&gt;]\n",
       "\tvalidation_split=0.2\n",
       "\tshuffle=True\n",
       "\trun_eagerly=False\n",
       "\tepochs=100\n",
       "\tclass_weight=None\n",
       ")</pre><b>In a Jupyter environment, please rerun this cell to show the HTML representation or trust the notebook. <br />On GitHub, the HTML representation is unable to render, please try loading this page with nbviewer.org.</b></div><div class=\"sk-container\" hidden><div class=\"sk-item\"><div class=\"sk-estimator sk-toggleable\"><input class=\"sk-toggleable__control sk-hidden--visually\" id=\"sk-estimator-id-43\" type=\"checkbox\" checked><label for=\"sk-estimator-id-43\" class=\"sk-toggleable__label sk-toggleable__label-arrow\">KerasClassifier</label><div class=\"sk-toggleable__content\"><pre>KerasClassifier(\n",
       "\tmodel=&lt;keras.engine.sequential.Sequential object at 0x0000024BF70981F0&gt;\n",
       "\tbuild_fn=None\n",
       "\twarm_start=False\n",
       "\trandom_state=None\n",
       "\toptimizer=&lt;keras.optimizers.optimizer_v2.adam.Adam object at 0x0000024BF693C6A0&gt;\n",
       "\tloss=sparse_categorical_crossentropy\n",
       "\tmetrics=None\n",
       "\tbatch_size=32\n",
       "\tvalidation_batch_size=None\n",
       "\tverbose=1\n",
       "\tcallbacks=[&lt;keras.callbacks.EarlyStopping object at 0x0000024B57397460&gt;]\n",
       "\tvalidation_split=0.2\n",
       "\tshuffle=True\n",
       "\trun_eagerly=False\n",
       "\tepochs=100\n",
       "\tclass_weight=None\n",
       ")</pre></div></div></div></div></div>"
      ],
      "text/plain": [
       "KerasClassifier(\n",
       "\tmodel=<keras.engine.sequential.Sequential object at 0x0000024BF70981F0>\n",
       "\tbuild_fn=None\n",
       "\twarm_start=False\n",
       "\trandom_state=None\n",
       "\toptimizer=<keras.optimizers.optimizer_v2.adam.Adam object at 0x0000024BF693C6A0>\n",
       "\tloss=sparse_categorical_crossentropy\n",
       "\tmetrics=None\n",
       "\tbatch_size=32\n",
       "\tvalidation_batch_size=None\n",
       "\tverbose=1\n",
       "\tcallbacks=[<keras.callbacks.EarlyStopping object at 0x0000024B57397460>]\n",
       "\tvalidation_split=0.2\n",
       "\tshuffle=True\n",
       "\trun_eagerly=False\n",
       "\tepochs=100\n",
       "\tclass_weight=None\n",
       ")"
      ]
     },
     "execution_count": 68,
     "metadata": {},
     "output_type": "execute_result"
    }
   ],
   "source": [
    "# fit nn3\n",
    "nn3.fit(stack_train_preds, y_train, validation_data=(stack_val_preds, y_val))"
   ]
  },
  {
   "cell_type": "markdown",
   "id": "605bbf8c",
   "metadata": {
    "hidden": true
   },
   "source": [
    "- 83.9% val_acc but our val_loss only got down to 0.51"
   ]
  },
  {
   "cell_type": "markdown",
   "id": "0f40c1db",
   "metadata": {
    "heading_collapsed": true
   },
   "source": [
    "### putting preds from stack + input data into NN"
   ]
  },
  {
   "cell_type": "code",
   "execution_count": 69,
   "id": "a4567100",
   "metadata": {
    "ExecuteTime": {
     "end_time": "2023-10-26T15:20:41.750166Z",
     "start_time": "2023-10-26T15:20:41.736154Z"
    },
    "hidden": true
   },
   "outputs": [],
   "source": [
    "# combine pred probs with input data\n",
    "stack_train_full = np.concatenate((X_train, stack_train_preds), axis=1)\n",
    "stack_val_full = np.concatenate((X_val, stack_val_preds), axis=1)\n",
    "stack_test_full = np.concatenate((X_test, stack_test_preds), axis=1)"
   ]
  },
  {
   "cell_type": "code",
   "execution_count": 70,
   "id": "3da65cb9",
   "metadata": {
    "ExecuteTime": {
     "end_time": "2023-10-26T15:20:41.814224Z",
     "start_time": "2023-10-26T15:20:41.752168Z"
    },
    "hidden": true
   },
   "outputs": [],
   "source": [
    "# create the KerasClassifier, pred probs + input data\n",
    "nn4 = KerasClassifier(model=build_model(stack_train_full.shape[1], [104, 104]), epochs=100, batch_size=64, optimizer=Adam(), \n",
    "                     callbacks=[early_stopping], validation_split=0.2, verbose=1, loss='sparse_categorical_crossentropy')"
   ]
  },
  {
   "cell_type": "code",
   "execution_count": 71,
   "id": "52db1948",
   "metadata": {
    "ExecuteTime": {
     "end_time": "2023-10-26T15:21:03.924992Z",
     "start_time": "2023-10-26T15:20:41.816226Z"
    },
    "hidden": true
   },
   "outputs": [
    {
     "name": "stdout",
     "output_type": "stream",
     "text": [
      "Epoch 1/100\n",
      "97/97 [==============================] - 1s 9ms/step - loss: 0.8609 - accuracy: 0.7537 - val_loss: 1.1386 - val_accuracy: 0.6239\n",
      "Epoch 2/100\n",
      "97/97 [==============================] - 1s 6ms/step - loss: 0.6885 - accuracy: 0.7959 - val_loss: 1.0066 - val_accuracy: 0.6984\n",
      "Epoch 3/100\n",
      "97/97 [==============================] - 1s 7ms/step - loss: 0.6502 - accuracy: 0.8061 - val_loss: 0.8479 - val_accuracy: 0.7685\n",
      "Epoch 4/100\n",
      "97/97 [==============================] - 1s 8ms/step - loss: 0.6242 - accuracy: 0.8144 - val_loss: 0.7448 - val_accuracy: 0.8061\n",
      "Epoch 5/100\n",
      "97/97 [==============================] - 1s 7ms/step - loss: 0.6121 - accuracy: 0.8084 - val_loss: 0.5953 - val_accuracy: 0.8307\n",
      "Epoch 6/100\n",
      "97/97 [==============================] - 1s 6ms/step - loss: 0.5938 - accuracy: 0.8191 - val_loss: 0.5351 - val_accuracy: 0.8346\n",
      "Epoch 7/100\n",
      "97/97 [==============================] - 1s 7ms/step - loss: 0.5700 - accuracy: 0.8189 - val_loss: 0.5081 - val_accuracy: 0.8372\n",
      "Epoch 8/100\n",
      "97/97 [==============================] - 1s 7ms/step - loss: 0.5705 - accuracy: 0.8186 - val_loss: 0.5044 - val_accuracy: 0.8359\n",
      "Epoch 9/100\n",
      "97/97 [==============================] - 1s 7ms/step - loss: 0.5572 - accuracy: 0.8185 - val_loss: 0.5013 - val_accuracy: 0.8366\n",
      "Epoch 10/100\n",
      "97/97 [==============================] - 1s 9ms/step - loss: 0.5492 - accuracy: 0.8155 - val_loss: 0.5025 - val_accuracy: 0.8353\n",
      "Epoch 11/100\n",
      "97/97 [==============================] - 1s 6ms/step - loss: 0.5409 - accuracy: 0.8217 - val_loss: 0.4983 - val_accuracy: 0.8366\n",
      "Epoch 12/100\n",
      "97/97 [==============================] - 1s 7ms/step - loss: 0.5341 - accuracy: 0.8204 - val_loss: 0.4953 - val_accuracy: 0.8372\n",
      "Epoch 13/100\n",
      "97/97 [==============================] - 1s 9ms/step - loss: 0.5312 - accuracy: 0.8214 - val_loss: 0.4908 - val_accuracy: 0.8385\n",
      "Epoch 14/100\n",
      "97/97 [==============================] - 1s 7ms/step - loss: 0.5247 - accuracy: 0.8219 - val_loss: 0.4912 - val_accuracy: 0.8346\n",
      "Epoch 15/100\n",
      "97/97 [==============================] - 0s 5ms/step - loss: 0.5237 - accuracy: 0.8243 - val_loss: 0.4887 - val_accuracy: 0.8385\n",
      "Epoch 16/100\n",
      "97/97 [==============================] - 1s 5ms/step - loss: 0.5129 - accuracy: 0.8246 - val_loss: 0.4852 - val_accuracy: 0.8366\n",
      "Epoch 17/100\n",
      "97/97 [==============================] - 1s 5ms/step - loss: 0.5169 - accuracy: 0.8232 - val_loss: 0.4871 - val_accuracy: 0.8353\n",
      "Epoch 18/100\n",
      "97/97 [==============================] - 1s 6ms/step - loss: 0.5050 - accuracy: 0.8235 - val_loss: 0.4806 - val_accuracy: 0.8372\n",
      "Epoch 19/100\n",
      "97/97 [==============================] - 1s 5ms/step - loss: 0.5080 - accuracy: 0.8224 - val_loss: 0.4779 - val_accuracy: 0.8359\n",
      "Epoch 20/100\n",
      "97/97 [==============================] - 1s 5ms/step - loss: 0.5024 - accuracy: 0.8220 - val_loss: 0.4764 - val_accuracy: 0.8405\n",
      "Epoch 21/100\n",
      "97/97 [==============================] - 1s 6ms/step - loss: 0.5029 - accuracy: 0.8220 - val_loss: 0.4778 - val_accuracy: 0.8372\n",
      "Epoch 22/100\n",
      "97/97 [==============================] - 1s 6ms/step - loss: 0.4986 - accuracy: 0.8261 - val_loss: 0.4794 - val_accuracy: 0.8372\n",
      "Epoch 23/100\n",
      "97/97 [==============================] - 1s 9ms/step - loss: 0.4956 - accuracy: 0.8238 - val_loss: 0.4792 - val_accuracy: 0.8372\n",
      "Epoch 24/100\n",
      "97/97 [==============================] - 1s 6ms/step - loss: 0.4943 - accuracy: 0.8241 - val_loss: 0.4774 - val_accuracy: 0.8340\n",
      "Epoch 25/100\n",
      "97/97 [==============================] - 1s 7ms/step - loss: 0.4890 - accuracy: 0.8258 - val_loss: 0.4724 - val_accuracy: 0.8359\n",
      "Epoch 26/100\n",
      "97/97 [==============================] - 1s 6ms/step - loss: 0.4858 - accuracy: 0.8262 - val_loss: 0.4764 - val_accuracy: 0.8327\n",
      "Epoch 27/100\n",
      "97/97 [==============================] - 1s 5ms/step - loss: 0.4782 - accuracy: 0.8264 - val_loss: 0.4766 - val_accuracy: 0.8340\n",
      "Epoch 28/100\n",
      "97/97 [==============================] - 0s 5ms/step - loss: 0.4756 - accuracy: 0.8256 - val_loss: 0.4710 - val_accuracy: 0.8359\n",
      "Epoch 29/100\n",
      "97/97 [==============================] - 1s 5ms/step - loss: 0.4757 - accuracy: 0.8285 - val_loss: 0.4694 - val_accuracy: 0.8385\n",
      "Epoch 30/100\n",
      "97/97 [==============================] - 1s 6ms/step - loss: 0.4755 - accuracy: 0.8248 - val_loss: 0.4757 - val_accuracy: 0.8353\n",
      "Epoch 31/100\n",
      "97/97 [==============================] - 1s 7ms/step - loss: 0.4618 - accuracy: 0.8298 - val_loss: 0.4715 - val_accuracy: 0.8340\n",
      "Epoch 32/100\n",
      "97/97 [==============================] - 1s 7ms/step - loss: 0.4719 - accuracy: 0.8258 - val_loss: 0.4769 - val_accuracy: 0.8340\n",
      "Epoch 33/100\n",
      "97/97 [==============================] - 1s 6ms/step - loss: 0.4714 - accuracy: 0.8275 - val_loss: 0.4711 - val_accuracy: 0.8333\n",
      "Epoch 34/100\n",
      "97/97 [==============================] - 1s 6ms/step - loss: 0.4601 - accuracy: 0.8313 - val_loss: 0.4796 - val_accuracy: 0.8353\n",
      "Epoch 34: early stopping\n"
     ]
    },
    {
     "data": {
      "text/html": [
       "<style>#sk-container-id-14 {color: black;}#sk-container-id-14 pre{padding: 0;}#sk-container-id-14 div.sk-toggleable {background-color: white;}#sk-container-id-14 label.sk-toggleable__label {cursor: pointer;display: block;width: 100%;margin-bottom: 0;padding: 0.3em;box-sizing: border-box;text-align: center;}#sk-container-id-14 label.sk-toggleable__label-arrow:before {content: \"▸\";float: left;margin-right: 0.25em;color: #696969;}#sk-container-id-14 label.sk-toggleable__label-arrow:hover:before {color: black;}#sk-container-id-14 div.sk-estimator:hover label.sk-toggleable__label-arrow:before {color: black;}#sk-container-id-14 div.sk-toggleable__content {max-height: 0;max-width: 0;overflow: hidden;text-align: left;background-color: #f0f8ff;}#sk-container-id-14 div.sk-toggleable__content pre {margin: 0.2em;color: black;border-radius: 0.25em;background-color: #f0f8ff;}#sk-container-id-14 input.sk-toggleable__control:checked~div.sk-toggleable__content {max-height: 200px;max-width: 100%;overflow: auto;}#sk-container-id-14 input.sk-toggleable__control:checked~label.sk-toggleable__label-arrow:before {content: \"▾\";}#sk-container-id-14 div.sk-estimator input.sk-toggleable__control:checked~label.sk-toggleable__label {background-color: #d4ebff;}#sk-container-id-14 div.sk-label input.sk-toggleable__control:checked~label.sk-toggleable__label {background-color: #d4ebff;}#sk-container-id-14 input.sk-hidden--visually {border: 0;clip: rect(1px 1px 1px 1px);clip: rect(1px, 1px, 1px, 1px);height: 1px;margin: -1px;overflow: hidden;padding: 0;position: absolute;width: 1px;}#sk-container-id-14 div.sk-estimator {font-family: monospace;background-color: #f0f8ff;border: 1px dotted black;border-radius: 0.25em;box-sizing: border-box;margin-bottom: 0.5em;}#sk-container-id-14 div.sk-estimator:hover {background-color: #d4ebff;}#sk-container-id-14 div.sk-parallel-item::after {content: \"\";width: 100%;border-bottom: 1px solid gray;flex-grow: 1;}#sk-container-id-14 div.sk-label:hover label.sk-toggleable__label {background-color: #d4ebff;}#sk-container-id-14 div.sk-serial::before {content: \"\";position: absolute;border-left: 1px solid gray;box-sizing: border-box;top: 0;bottom: 0;left: 50%;z-index: 0;}#sk-container-id-14 div.sk-serial {display: flex;flex-direction: column;align-items: center;background-color: white;padding-right: 0.2em;padding-left: 0.2em;position: relative;}#sk-container-id-14 div.sk-item {position: relative;z-index: 1;}#sk-container-id-14 div.sk-parallel {display: flex;align-items: stretch;justify-content: center;background-color: white;position: relative;}#sk-container-id-14 div.sk-item::before, #sk-container-id-14 div.sk-parallel-item::before {content: \"\";position: absolute;border-left: 1px solid gray;box-sizing: border-box;top: 0;bottom: 0;left: 50%;z-index: -1;}#sk-container-id-14 div.sk-parallel-item {display: flex;flex-direction: column;z-index: 1;position: relative;background-color: white;}#sk-container-id-14 div.sk-parallel-item:first-child::after {align-self: flex-end;width: 50%;}#sk-container-id-14 div.sk-parallel-item:last-child::after {align-self: flex-start;width: 50%;}#sk-container-id-14 div.sk-parallel-item:only-child::after {width: 0;}#sk-container-id-14 div.sk-dashed-wrapped {border: 1px dashed gray;margin: 0 0.4em 0.5em 0.4em;box-sizing: border-box;padding-bottom: 0.4em;background-color: white;}#sk-container-id-14 div.sk-label label {font-family: monospace;font-weight: bold;display: inline-block;line-height: 1.2em;}#sk-container-id-14 div.sk-label-container {text-align: center;}#sk-container-id-14 div.sk-container {/* jupyter's `normalize.less` sets `[hidden] { display: none; }` but bootstrap.min.css set `[hidden] { display: none !important; }` so we also need the `!important` here to be able to override the default hidden behavior on the sphinx rendered scikit-learn.org. See: https://github.com/scikit-learn/scikit-learn/issues/21755 */display: inline-block !important;position: relative;}#sk-container-id-14 div.sk-text-repr-fallback {display: none;}</style><div id=\"sk-container-id-14\" class=\"sk-top-container\"><div class=\"sk-text-repr-fallback\"><pre>KerasClassifier(\n",
       "\tmodel=&lt;keras.engine.sequential.Sequential object at 0x0000024BF7098790&gt;\n",
       "\tbuild_fn=None\n",
       "\twarm_start=False\n",
       "\trandom_state=None\n",
       "\toptimizer=&lt;keras.optimizers.optimizer_v2.adam.Adam object at 0x0000024BEBD722C0&gt;\n",
       "\tloss=sparse_categorical_crossentropy\n",
       "\tmetrics=None\n",
       "\tbatch_size=64\n",
       "\tvalidation_batch_size=None\n",
       "\tverbose=1\n",
       "\tcallbacks=[&lt;keras.callbacks.EarlyStopping object at 0x0000024B57397460&gt;]\n",
       "\tvalidation_split=0.2\n",
       "\tshuffle=True\n",
       "\trun_eagerly=False\n",
       "\tepochs=100\n",
       "\tclass_weight=None\n",
       ")</pre><b>In a Jupyter environment, please rerun this cell to show the HTML representation or trust the notebook. <br />On GitHub, the HTML representation is unable to render, please try loading this page with nbviewer.org.</b></div><div class=\"sk-container\" hidden><div class=\"sk-item\"><div class=\"sk-estimator sk-toggleable\"><input class=\"sk-toggleable__control sk-hidden--visually\" id=\"sk-estimator-id-44\" type=\"checkbox\" checked><label for=\"sk-estimator-id-44\" class=\"sk-toggleable__label sk-toggleable__label-arrow\">KerasClassifier</label><div class=\"sk-toggleable__content\"><pre>KerasClassifier(\n",
       "\tmodel=&lt;keras.engine.sequential.Sequential object at 0x0000024BF7098790&gt;\n",
       "\tbuild_fn=None\n",
       "\twarm_start=False\n",
       "\trandom_state=None\n",
       "\toptimizer=&lt;keras.optimizers.optimizer_v2.adam.Adam object at 0x0000024BEBD722C0&gt;\n",
       "\tloss=sparse_categorical_crossentropy\n",
       "\tmetrics=None\n",
       "\tbatch_size=64\n",
       "\tvalidation_batch_size=None\n",
       "\tverbose=1\n",
       "\tcallbacks=[&lt;keras.callbacks.EarlyStopping object at 0x0000024B57397460&gt;]\n",
       "\tvalidation_split=0.2\n",
       "\tshuffle=True\n",
       "\trun_eagerly=False\n",
       "\tepochs=100\n",
       "\tclass_weight=None\n",
       ")</pre></div></div></div></div></div>"
      ],
      "text/plain": [
       "KerasClassifier(\n",
       "\tmodel=<keras.engine.sequential.Sequential object at 0x0000024BF7098790>\n",
       "\tbuild_fn=None\n",
       "\twarm_start=False\n",
       "\trandom_state=None\n",
       "\toptimizer=<keras.optimizers.optimizer_v2.adam.Adam object at 0x0000024BEBD722C0>\n",
       "\tloss=sparse_categorical_crossentropy\n",
       "\tmetrics=None\n",
       "\tbatch_size=64\n",
       "\tvalidation_batch_size=None\n",
       "\tverbose=1\n",
       "\tcallbacks=[<keras.callbacks.EarlyStopping object at 0x0000024B57397460>]\n",
       "\tvalidation_split=0.2\n",
       "\tshuffle=True\n",
       "\trun_eagerly=False\n",
       "\tepochs=100\n",
       "\tclass_weight=None\n",
       ")"
      ]
     },
     "execution_count": 71,
     "metadata": {},
     "output_type": "execute_result"
    }
   ],
   "source": [
    "# fit nn4\n",
    "nn4.fit(stack_train_full, y_train, validation_data=(stack_val_full, y_val))"
   ]
  },
  {
   "cell_type": "markdown",
   "id": "80a0d202",
   "metadata": {
    "hidden": true
   },
   "source": [
    "- val acc still at 83%. val_loss only down to 0.48"
   ]
  },
  {
   "cell_type": "markdown",
   "id": "a75f6818",
   "metadata": {},
   "source": [
    "### Using difference between best NN pred probs and best Stacker pred probs as input"
   ]
  },
  {
   "cell_type": "code",
   "execution_count": 91,
   "id": "62095c18",
   "metadata": {
    "ExecuteTime": {
     "end_time": "2023-10-26T15:28:34.182529Z",
     "start_time": "2023-10-26T15:28:32.663767Z"
    }
   },
   "outputs": [
    {
     "name": "stdout",
     "output_type": "stream",
     "text": [
      "386/386 [==============================] - 1s 2ms/step\n",
      "97/97 [==============================] - 0s 2ms/step\n",
      "97/97 [==============================] - 0s 2ms/step\n"
     ]
    }
   ],
   "source": [
    "# get predictions from first (best) NN\n",
    "nn_train_preds = nn.predict_proba(X_train)\n",
    "nn_val_preds = nn.predict_proba(X_val)\n",
    "nn_test_preds = nn.predict_proba(X_val)"
   ]
  },
  {
   "cell_type": "code",
   "execution_count": 92,
   "id": "e0cc7523",
   "metadata": {
    "ExecuteTime": {
     "end_time": "2023-10-26T15:28:36.765354Z",
     "start_time": "2023-10-26T15:28:36.628169Z"
    }
   },
   "outputs": [],
   "source": [
    "# Calculate the diff\n",
    "train_diff = stack_train_preds - nn_train_preds\n",
    "val_diff = stack_val_preds - nn_val_preds\n",
    "test_diff = stack_val_preds - nn_test_preds\n",
    "\n",
    "# create the KerasClassifier, use diff as input data\n",
    "nn5 = KerasClassifier(model=build_model(train_diff.shape[1], [64, 64, 32, 32]), epochs=100, batch_size=32, optimizer=Adam(), \n",
    "                     callbacks=[early_stopping], validation_split=0.2, verbose=1, loss='sparse_categorical_crossentropy')"
   ]
  },
  {
   "cell_type": "code",
   "execution_count": 93,
   "id": "07ea743a",
   "metadata": {
    "ExecuteTime": {
     "end_time": "2023-10-26T15:29:32.138756Z",
     "start_time": "2023-10-26T15:28:37.302581Z"
    },
    "scrolled": true
   },
   "outputs": [
    {
     "name": "stdout",
     "output_type": "stream",
     "text": [
      "Epoch 1/100\n",
      "193/193 [==============================] - 4s 16ms/step - loss: 1.4172 - accuracy: 0.4757 - val_loss: 0.9826 - val_accuracy: 0.5934\n",
      "Epoch 2/100\n",
      "193/193 [==============================] - 3s 15ms/step - loss: 0.9486 - accuracy: 0.6626 - val_loss: 0.6706 - val_accuracy: 0.7990\n",
      "Epoch 3/100\n",
      "193/193 [==============================] - 3s 15ms/step - loss: 0.8549 - accuracy: 0.7177 - val_loss: 0.5930 - val_accuracy: 0.8178\n",
      "Epoch 4/100\n",
      "193/193 [==============================] - 2s 12ms/step - loss: 0.8106 - accuracy: 0.7414 - val_loss: 0.5855 - val_accuracy: 0.8158\n",
      "Epoch 5/100\n",
      "193/193 [==============================] - 2s 12ms/step - loss: 0.7895 - accuracy: 0.7516 - val_loss: 0.5840 - val_accuracy: 0.8165\n",
      "Epoch 6/100\n",
      "193/193 [==============================] - 3s 13ms/step - loss: 0.7739 - accuracy: 0.7532 - val_loss: 0.5838 - val_accuracy: 0.8165\n",
      "Epoch 7/100\n",
      "193/193 [==============================] - 2s 10ms/step - loss: 0.7627 - accuracy: 0.7633 - val_loss: 0.5828 - val_accuracy: 0.8165\n",
      "Epoch 8/100\n",
      "193/193 [==============================] - 2s 8ms/step - loss: 0.7598 - accuracy: 0.7691 - val_loss: 0.5793 - val_accuracy: 0.8197\n",
      "Epoch 9/100\n",
      "193/193 [==============================] - 2s 9ms/step - loss: 0.7382 - accuracy: 0.7719 - val_loss: 0.5790 - val_accuracy: 0.8178\n",
      "Epoch 10/100\n",
      "193/193 [==============================] - 2s 9ms/step - loss: 0.7304 - accuracy: 0.7764 - val_loss: 0.5856 - val_accuracy: 0.8152\n",
      "Epoch 11/100\n",
      "193/193 [==============================] - 2s 9ms/step - loss: 0.7291 - accuracy: 0.7781 - val_loss: 0.5835 - val_accuracy: 0.8139\n",
      "Epoch 12/100\n",
      "193/193 [==============================] - 2s 8ms/step - loss: 0.7325 - accuracy: 0.7792 - val_loss: 0.5790 - val_accuracy: 0.8178\n",
      "Epoch 13/100\n",
      "193/193 [==============================] - 2s 9ms/step - loss: 0.7252 - accuracy: 0.7789 - val_loss: 0.5804 - val_accuracy: 0.8184\n",
      "Epoch 14/100\n",
      "193/193 [==============================] - 2s 10ms/step - loss: 0.7318 - accuracy: 0.7751 - val_loss: 0.5780 - val_accuracy: 0.8217\n",
      "Epoch 15/100\n",
      "193/193 [==============================] - 2s 11ms/step - loss: 0.7162 - accuracy: 0.7816 - val_loss: 0.5799 - val_accuracy: 0.8204\n",
      "Epoch 16/100\n",
      "193/193 [==============================] - 2s 12ms/step - loss: 0.7302 - accuracy: 0.7794 - val_loss: 0.5773 - val_accuracy: 0.8204\n",
      "Epoch 17/100\n",
      "193/193 [==============================] - 2s 11ms/step - loss: 0.7214 - accuracy: 0.7816 - val_loss: 0.5797 - val_accuracy: 0.8197\n",
      "Epoch 18/100\n",
      "193/193 [==============================] - 2s 12ms/step - loss: 0.7159 - accuracy: 0.7799 - val_loss: 0.5795 - val_accuracy: 0.8171\n",
      "Epoch 19/100\n",
      "193/193 [==============================] - 2s 12ms/step - loss: 0.7156 - accuracy: 0.7831 - val_loss: 0.5764 - val_accuracy: 0.8197\n",
      "Epoch 20/100\n",
      "193/193 [==============================] - 2s 11ms/step - loss: 0.7208 - accuracy: 0.7821 - val_loss: 0.5758 - val_accuracy: 0.8191\n",
      "Epoch 21/100\n",
      "193/193 [==============================] - 2s 10ms/step - loss: 0.7078 - accuracy: 0.7868 - val_loss: 0.5803 - val_accuracy: 0.8191\n",
      "Epoch 22/100\n",
      "193/193 [==============================] - 2s 10ms/step - loss: 0.7137 - accuracy: 0.7805 - val_loss: 0.5806 - val_accuracy: 0.8197\n",
      "Epoch 23/100\n",
      "193/193 [==============================] - 2s 12ms/step - loss: 0.7183 - accuracy: 0.7821 - val_loss: 0.5805 - val_accuracy: 0.8171\n",
      "Epoch 24/100\n",
      "193/193 [==============================] - 2s 11ms/step - loss: 0.7118 - accuracy: 0.7810 - val_loss: 0.5785 - val_accuracy: 0.8171\n",
      "Epoch 25/100\n",
      "193/193 [==============================] - 2s 11ms/step - loss: 0.7099 - accuracy: 0.7894 - val_loss: 0.5804 - val_accuracy: 0.8191\n",
      "Epoch 25: early stopping\n"
     ]
    },
    {
     "data": {
      "text/html": [
       "<style>#sk-container-id-16 {color: black;}#sk-container-id-16 pre{padding: 0;}#sk-container-id-16 div.sk-toggleable {background-color: white;}#sk-container-id-16 label.sk-toggleable__label {cursor: pointer;display: block;width: 100%;margin-bottom: 0;padding: 0.3em;box-sizing: border-box;text-align: center;}#sk-container-id-16 label.sk-toggleable__label-arrow:before {content: \"▸\";float: left;margin-right: 0.25em;color: #696969;}#sk-container-id-16 label.sk-toggleable__label-arrow:hover:before {color: black;}#sk-container-id-16 div.sk-estimator:hover label.sk-toggleable__label-arrow:before {color: black;}#sk-container-id-16 div.sk-toggleable__content {max-height: 0;max-width: 0;overflow: hidden;text-align: left;background-color: #f0f8ff;}#sk-container-id-16 div.sk-toggleable__content pre {margin: 0.2em;color: black;border-radius: 0.25em;background-color: #f0f8ff;}#sk-container-id-16 input.sk-toggleable__control:checked~div.sk-toggleable__content {max-height: 200px;max-width: 100%;overflow: auto;}#sk-container-id-16 input.sk-toggleable__control:checked~label.sk-toggleable__label-arrow:before {content: \"▾\";}#sk-container-id-16 div.sk-estimator input.sk-toggleable__control:checked~label.sk-toggleable__label {background-color: #d4ebff;}#sk-container-id-16 div.sk-label input.sk-toggleable__control:checked~label.sk-toggleable__label {background-color: #d4ebff;}#sk-container-id-16 input.sk-hidden--visually {border: 0;clip: rect(1px 1px 1px 1px);clip: rect(1px, 1px, 1px, 1px);height: 1px;margin: -1px;overflow: hidden;padding: 0;position: absolute;width: 1px;}#sk-container-id-16 div.sk-estimator {font-family: monospace;background-color: #f0f8ff;border: 1px dotted black;border-radius: 0.25em;box-sizing: border-box;margin-bottom: 0.5em;}#sk-container-id-16 div.sk-estimator:hover {background-color: #d4ebff;}#sk-container-id-16 div.sk-parallel-item::after {content: \"\";width: 100%;border-bottom: 1px solid gray;flex-grow: 1;}#sk-container-id-16 div.sk-label:hover label.sk-toggleable__label {background-color: #d4ebff;}#sk-container-id-16 div.sk-serial::before {content: \"\";position: absolute;border-left: 1px solid gray;box-sizing: border-box;top: 0;bottom: 0;left: 50%;z-index: 0;}#sk-container-id-16 div.sk-serial {display: flex;flex-direction: column;align-items: center;background-color: white;padding-right: 0.2em;padding-left: 0.2em;position: relative;}#sk-container-id-16 div.sk-item {position: relative;z-index: 1;}#sk-container-id-16 div.sk-parallel {display: flex;align-items: stretch;justify-content: center;background-color: white;position: relative;}#sk-container-id-16 div.sk-item::before, #sk-container-id-16 div.sk-parallel-item::before {content: \"\";position: absolute;border-left: 1px solid gray;box-sizing: border-box;top: 0;bottom: 0;left: 50%;z-index: -1;}#sk-container-id-16 div.sk-parallel-item {display: flex;flex-direction: column;z-index: 1;position: relative;background-color: white;}#sk-container-id-16 div.sk-parallel-item:first-child::after {align-self: flex-end;width: 50%;}#sk-container-id-16 div.sk-parallel-item:last-child::after {align-self: flex-start;width: 50%;}#sk-container-id-16 div.sk-parallel-item:only-child::after {width: 0;}#sk-container-id-16 div.sk-dashed-wrapped {border: 1px dashed gray;margin: 0 0.4em 0.5em 0.4em;box-sizing: border-box;padding-bottom: 0.4em;background-color: white;}#sk-container-id-16 div.sk-label label {font-family: monospace;font-weight: bold;display: inline-block;line-height: 1.2em;}#sk-container-id-16 div.sk-label-container {text-align: center;}#sk-container-id-16 div.sk-container {/* jupyter's `normalize.less` sets `[hidden] { display: none; }` but bootstrap.min.css set `[hidden] { display: none !important; }` so we also need the `!important` here to be able to override the default hidden behavior on the sphinx rendered scikit-learn.org. See: https://github.com/scikit-learn/scikit-learn/issues/21755 */display: inline-block !important;position: relative;}#sk-container-id-16 div.sk-text-repr-fallback {display: none;}</style><div id=\"sk-container-id-16\" class=\"sk-top-container\"><div class=\"sk-text-repr-fallback\"><pre>KerasClassifier(\n",
       "\tmodel=&lt;keras.engine.sequential.Sequential object at 0x0000024B92EBF820&gt;\n",
       "\tbuild_fn=None\n",
       "\twarm_start=False\n",
       "\trandom_state=None\n",
       "\toptimizer=&lt;keras.optimizers.optimizer_v2.adam.Adam object at 0x0000024BFE639630&gt;\n",
       "\tloss=sparse_categorical_crossentropy\n",
       "\tmetrics=None\n",
       "\tbatch_size=32\n",
       "\tvalidation_batch_size=None\n",
       "\tverbose=1\n",
       "\tcallbacks=[&lt;keras.callbacks.EarlyStopping object at 0x0000024BFDE9F910&gt;]\n",
       "\tvalidation_split=0.2\n",
       "\tshuffle=True\n",
       "\trun_eagerly=False\n",
       "\tepochs=100\n",
       "\tclass_weight=None\n",
       ")</pre><b>In a Jupyter environment, please rerun this cell to show the HTML representation or trust the notebook. <br />On GitHub, the HTML representation is unable to render, please try loading this page with nbviewer.org.</b></div><div class=\"sk-container\" hidden><div class=\"sk-item\"><div class=\"sk-estimator sk-toggleable\"><input class=\"sk-toggleable__control sk-hidden--visually\" id=\"sk-estimator-id-50\" type=\"checkbox\" checked><label for=\"sk-estimator-id-50\" class=\"sk-toggleable__label sk-toggleable__label-arrow\">KerasClassifier</label><div class=\"sk-toggleable__content\"><pre>KerasClassifier(\n",
       "\tmodel=&lt;keras.engine.sequential.Sequential object at 0x0000024B92EBF820&gt;\n",
       "\tbuild_fn=None\n",
       "\twarm_start=False\n",
       "\trandom_state=None\n",
       "\toptimizer=&lt;keras.optimizers.optimizer_v2.adam.Adam object at 0x0000024BFE639630&gt;\n",
       "\tloss=sparse_categorical_crossentropy\n",
       "\tmetrics=None\n",
       "\tbatch_size=32\n",
       "\tvalidation_batch_size=None\n",
       "\tverbose=1\n",
       "\tcallbacks=[&lt;keras.callbacks.EarlyStopping object at 0x0000024BFDE9F910&gt;]\n",
       "\tvalidation_split=0.2\n",
       "\tshuffle=True\n",
       "\trun_eagerly=False\n",
       "\tepochs=100\n",
       "\tclass_weight=None\n",
       ")</pre></div></div></div></div></div>"
      ],
      "text/plain": [
       "KerasClassifier(\n",
       "\tmodel=<keras.engine.sequential.Sequential object at 0x0000024B92EBF820>\n",
       "\tbuild_fn=None\n",
       "\twarm_start=False\n",
       "\trandom_state=None\n",
       "\toptimizer=<keras.optimizers.optimizer_v2.adam.Adam object at 0x0000024BFE639630>\n",
       "\tloss=sparse_categorical_crossentropy\n",
       "\tmetrics=None\n",
       "\tbatch_size=32\n",
       "\tvalidation_batch_size=None\n",
       "\tverbose=1\n",
       "\tcallbacks=[<keras.callbacks.EarlyStopping object at 0x0000024BFDE9F910>]\n",
       "\tvalidation_split=0.2\n",
       "\tshuffle=True\n",
       "\trun_eagerly=False\n",
       "\tepochs=100\n",
       "\tclass_weight=None\n",
       ")"
      ]
     },
     "execution_count": 93,
     "metadata": {},
     "output_type": "execute_result"
    }
   ],
   "source": [
    "# fit nn5\n",
    "nn5.fit(train_diff, y_train, validation_data=(val_diff, y_val))"
   ]
  },
  {
   "cell_type": "code",
   "execution_count": 102,
   "id": "7600bfb1",
   "metadata": {
    "ExecuteTime": {
     "end_time": "2023-10-26T15:49:41.192065Z",
     "start_time": "2023-10-26T15:49:41.180054Z"
    }
   },
   "outputs": [
    {
     "data": {
      "text/plain": [
       "defaultdict(list,\n",
       "            {'loss': [1.4171557426452637,\n",
       "              0.9486358761787415,\n",
       "              0.8548996448516846,\n",
       "              0.8106237053871155,\n",
       "              0.7894542217254639,\n",
       "              0.7738520503044128,\n",
       "              0.7627252340316772,\n",
       "              0.7597576379776001,\n",
       "              0.7381932139396667,\n",
       "              0.7304194569587708,\n",
       "              0.7291144132614136,\n",
       "              0.7325411438941956,\n",
       "              0.7251919507980347,\n",
       "              0.7318357825279236,\n",
       "              0.7162026166915894,\n",
       "              0.7301547527313232,\n",
       "              0.7213820815086365,\n",
       "              0.7159146666526794,\n",
       "              0.7156200408935547,\n",
       "              0.7207873463630676,\n",
       "              0.7077929973602295,\n",
       "              0.7137309908866882,\n",
       "              0.7182705998420715,\n",
       "              0.7118202447891235,\n",
       "              0.7099007964134216],\n",
       "             'accuracy': [0.4756651520729065,\n",
       "              0.6625567674636841,\n",
       "              0.7177157402038574,\n",
       "              0.7414016723632812,\n",
       "              0.7516223192214966,\n",
       "              0.7532446384429932,\n",
       "              0.7633030414581299,\n",
       "              0.7691434025764465,\n",
       "              0.7719013690948486,\n",
       "              0.7764438390731812,\n",
       "              0.7780662178993225,\n",
       "              0.7792018055915833,\n",
       "              0.7788773775100708,\n",
       "              0.7751460075378418,\n",
       "              0.7816352844238281,\n",
       "              0.7793640494346619,\n",
       "              0.7816352844238281,\n",
       "              0.7798507213592529,\n",
       "              0.7830954194068909,\n",
       "              0.782122015953064,\n",
       "              0.7868267297744751,\n",
       "              0.7804996967315674,\n",
       "              0.782122015953064,\n",
       "              0.7809863686561584,\n",
       "              0.7894224524497986],\n",
       "             'val_loss': [0.9826372861862183,\n",
       "              0.6705828309059143,\n",
       "              0.5930014252662659,\n",
       "              0.5855228900909424,\n",
       "              0.5839561820030212,\n",
       "              0.5837530493736267,\n",
       "              0.5827714800834656,\n",
       "              0.579346239566803,\n",
       "              0.5790473222732544,\n",
       "              0.5856097936630249,\n",
       "              0.5834636092185974,\n",
       "              0.5790058970451355,\n",
       "              0.5803775787353516,\n",
       "              0.5779830813407898,\n",
       "              0.5798790454864502,\n",
       "              0.5773184299468994,\n",
       "              0.5796964764595032,\n",
       "              0.5795227289199829,\n",
       "              0.5764418244361877,\n",
       "              0.5758105516433716,\n",
       "              0.5802668333053589,\n",
       "              0.5806003212928772,\n",
       "              0.5804965496063232,\n",
       "              0.5784928202629089,\n",
       "              0.5803753733634949],\n",
       "             'val_accuracy': [0.5933852195739746,\n",
       "              0.798962414264679,\n",
       "              0.8177691102027893,\n",
       "              0.8158236145973206,\n",
       "              0.8164721131324768,\n",
       "              0.8164721131324768,\n",
       "              0.8164721131324768,\n",
       "              0.8197146654129028,\n",
       "              0.8177691102027893,\n",
       "              0.8151751160621643,\n",
       "              0.813878059387207,\n",
       "              0.8177691102027893,\n",
       "              0.8184176683425903,\n",
       "              0.8216601610183716,\n",
       "              0.8203631639480591,\n",
       "              0.8203631639480591,\n",
       "              0.8197146654129028,\n",
       "              0.8171206116676331,\n",
       "              0.8197146654129028,\n",
       "              0.8190661668777466,\n",
       "              0.8190661668777466,\n",
       "              0.8197146654129028,\n",
       "              0.8171206116676331,\n",
       "              0.8171206116676331,\n",
       "              0.8190661668777466]})"
      ]
     },
     "execution_count": 102,
     "metadata": {},
     "output_type": "execute_result"
    }
   ],
   "source": [
    "nn5.history_"
   ]
  },
  {
   "cell_type": "markdown",
   "id": "3ad6a979",
   "metadata": {},
   "source": [
    "- this was the worst NN so far"
   ]
  },
  {
   "cell_type": "code",
   "execution_count": 211,
   "id": "5c6a84bd",
   "metadata": {
    "ExecuteTime": {
     "end_time": "2023-10-25T20:11:50.778463Z",
     "start_time": "2023-10-25T20:11:50.444288Z"
    }
   },
   "outputs": [
    {
     "name": "stdout",
     "output_type": "stream",
     "text": [
      "97/97 [==============================] - 0s 761us/step\n",
      "31/31 [==============================] - 0s 801us/step\n"
     ]
    },
    {
     "data": {
      "text/plain": [
       "(1.0, 1.0)"
      ]
     },
     "execution_count": 211,
     "metadata": {},
     "output_type": "execute_result"
    }
   ],
   "source": [
    "# train acc, test acc\n",
    "nn5.score(train_residuals, y_train), nn5.score(test_residuals, y_test)"
   ]
  },
  {
   "cell_type": "markdown",
   "id": "e8ae9236",
   "metadata": {},
   "source": [
    "# Looking at different LSA vals"
   ]
  },
  {
   "cell_type": "code",
   "execution_count": 111,
   "id": "d4c42652",
   "metadata": {
    "ExecuteTime": {
     "end_time": "2023-10-26T15:57:38.256089Z",
     "start_time": "2023-10-26T15:57:37.294811Z"
    }
   },
   "outputs": [],
   "source": [
    "# create our vectorizer\n",
    "vectorizer = TfidfVectorizer()\n",
    "\n",
    "# split train and test\n",
    "X_train, X_test, y_train, y_test = train_test_split(df2.words, df2['class'], test_size=0.2, random_state=random_state)\n",
    "\n",
    "# vectorize input data\n",
    "X_train = vectorizer.fit_transform(X_train).toarray()\n",
    "X_test = vectorizer.transform(X_test).toarray()"
   ]
  },
  {
   "cell_type": "code",
   "execution_count": 113,
   "id": "d3f93839",
   "metadata": {
    "ExecuteTime": {
     "end_time": "2023-10-26T16:03:34.059017Z",
     "start_time": "2023-10-26T15:57:44.071788Z"
    },
    "scrolled": true
   },
   "outputs": [
    {
     "name": "stdout",
     "output_type": "stream",
     "text": [
      "Epoch 1/100\n",
      "193/193 [==============================] - 3s 11ms/step - loss: 1.3800 - accuracy: 0.4912 - val_loss: 1.2238 - val_accuracy: 0.6835\n",
      "Epoch 2/100\n",
      "193/193 [==============================] - 2s 9ms/step - loss: 0.8702 - accuracy: 0.6763 - val_loss: 0.8546 - val_accuracy: 0.7970\n",
      "Epoch 3/100\n",
      "193/193 [==============================] - 2s 8ms/step - loss: 0.7298 - accuracy: 0.7356 - val_loss: 0.5947 - val_accuracy: 0.8197\n",
      "Epoch 4/100\n",
      "193/193 [==============================] - 2s 9ms/step - loss: 0.6708 - accuracy: 0.7646 - val_loss: 0.5355 - val_accuracy: 0.8204\n",
      "Epoch 5/100\n",
      "193/193 [==============================] - 2s 8ms/step - loss: 0.6489 - accuracy: 0.7740 - val_loss: 0.5292 - val_accuracy: 0.8210\n",
      "Epoch 6/100\n",
      "193/193 [==============================] - 1s 8ms/step - loss: 0.6178 - accuracy: 0.7818 - val_loss: 0.5252 - val_accuracy: 0.8210\n",
      "Epoch 7/100\n",
      "193/193 [==============================] - 2s 8ms/step - loss: 0.5970 - accuracy: 0.7883 - val_loss: 0.5193 - val_accuracy: 0.8262\n",
      "Epoch 8/100\n",
      "193/193 [==============================] - 2s 8ms/step - loss: 0.5817 - accuracy: 0.7969 - val_loss: 0.5128 - val_accuracy: 0.8294\n",
      "Epoch 9/100\n",
      "193/193 [==============================] - 1s 7ms/step - loss: 0.5580 - accuracy: 0.8060 - val_loss: 0.5062 - val_accuracy: 0.8314\n",
      "Epoch 10/100\n",
      "193/193 [==============================] - 1s 7ms/step - loss: 0.5541 - accuracy: 0.8110 - val_loss: 0.5032 - val_accuracy: 0.8268\n",
      "Epoch 11/100\n",
      "193/193 [==============================] - 1s 7ms/step - loss: 0.5534 - accuracy: 0.8040 - val_loss: 0.5019 - val_accuracy: 0.8210\n",
      "Epoch 12/100\n",
      "193/193 [==============================] - 1s 7ms/step - loss: 0.5443 - accuracy: 0.8039 - val_loss: 0.4929 - val_accuracy: 0.8236\n",
      "Epoch 13/100\n",
      "193/193 [==============================] - 1s 6ms/step - loss: 0.5293 - accuracy: 0.8126 - val_loss: 0.4936 - val_accuracy: 0.8262\n",
      "Epoch 14/100\n",
      "193/193 [==============================] - 1s 7ms/step - loss: 0.5269 - accuracy: 0.8128 - val_loss: 0.4958 - val_accuracy: 0.8236\n",
      "Epoch 15/100\n",
      "193/193 [==============================] - 1s 7ms/step - loss: 0.5187 - accuracy: 0.8144 - val_loss: 0.4865 - val_accuracy: 0.8236\n",
      "Epoch 16/100\n",
      "193/193 [==============================] - 1s 7ms/step - loss: 0.5059 - accuracy: 0.8199 - val_loss: 0.4876 - val_accuracy: 0.8204\n",
      "Epoch 17/100\n",
      "193/193 [==============================] - 1s 7ms/step - loss: 0.5008 - accuracy: 0.8191 - val_loss: 0.4873 - val_accuracy: 0.8204\n",
      "Epoch 18/100\n",
      "193/193 [==============================] - 1s 8ms/step - loss: 0.5042 - accuracy: 0.8160 - val_loss: 0.4815 - val_accuracy: 0.8243\n",
      "Epoch 19/100\n",
      "193/193 [==============================] - 2s 9ms/step - loss: 0.4939 - accuracy: 0.8159 - val_loss: 0.4853 - val_accuracy: 0.8184\n",
      "Epoch 20/100\n",
      "193/193 [==============================] - 2s 9ms/step - loss: 0.4883 - accuracy: 0.8212 - val_loss: 0.4921 - val_accuracy: 0.8204\n",
      "Epoch 21/100\n",
      "193/193 [==============================] - 1s 7ms/step - loss: 0.4822 - accuracy: 0.8246 - val_loss: 0.4862 - val_accuracy: 0.8249\n",
      "Epoch 22/100\n",
      "193/193 [==============================] - 1s 7ms/step - loss: 0.4789 - accuracy: 0.8258 - val_loss: 0.4875 - val_accuracy: 0.8223\n",
      "Epoch 23/100\n",
      "193/193 [==============================] - 1s 7ms/step - loss: 0.4766 - accuracy: 0.8251 - val_loss: 0.4969 - val_accuracy: 0.8191\n",
      "Epoch 23: early stopping\n",
      "Epoch 1/100\n",
      "193/193 [==============================] - 3s 11ms/step - loss: 1.4617 - accuracy: 0.4640 - val_loss: 1.2315 - val_accuracy: 0.5298\n",
      "Epoch 2/100\n",
      "193/193 [==============================] - 2s 9ms/step - loss: 0.9041 - accuracy: 0.6611 - val_loss: 0.8934 - val_accuracy: 0.7730\n",
      "Epoch 3/100\n",
      "193/193 [==============================] - 2s 9ms/step - loss: 0.7335 - accuracy: 0.7348 - val_loss: 0.5902 - val_accuracy: 0.8197\n",
      "Epoch 4/100\n",
      "193/193 [==============================] - 2s 9ms/step - loss: 0.6565 - accuracy: 0.7641 - val_loss: 0.5301 - val_accuracy: 0.8268\n",
      "Epoch 5/100\n",
      "193/193 [==============================] - 2s 9ms/step - loss: 0.6199 - accuracy: 0.7790 - val_loss: 0.5149 - val_accuracy: 0.8281\n",
      "Epoch 6/100\n",
      "193/193 [==============================] - 1s 7ms/step - loss: 0.5904 - accuracy: 0.7867 - val_loss: 0.5056 - val_accuracy: 0.8301\n",
      "Epoch 7/100\n",
      "193/193 [==============================] - 1s 8ms/step - loss: 0.5630 - accuracy: 0.8011 - val_loss: 0.5008 - val_accuracy: 0.8294\n",
      "Epoch 8/100\n",
      "193/193 [==============================] - 2s 9ms/step - loss: 0.5437 - accuracy: 0.8116 - val_loss: 0.4972 - val_accuracy: 0.8288\n",
      "Epoch 9/100\n",
      "193/193 [==============================] - 2s 9ms/step - loss: 0.5236 - accuracy: 0.8134 - val_loss: 0.4954 - val_accuracy: 0.8301\n",
      "Epoch 10/100\n",
      "193/193 [==============================] - 2s 8ms/step - loss: 0.5161 - accuracy: 0.8164 - val_loss: 0.4895 - val_accuracy: 0.8301\n",
      "Epoch 11/100\n",
      "193/193 [==============================] - 2s 9ms/step - loss: 0.5086 - accuracy: 0.8212 - val_loss: 0.4884 - val_accuracy: 0.8301\n",
      "Epoch 12/100\n",
      "193/193 [==============================] - 2s 9ms/step - loss: 0.4854 - accuracy: 0.8254 - val_loss: 0.4871 - val_accuracy: 0.8301\n",
      "Epoch 13/100\n",
      "193/193 [==============================] - 2s 8ms/step - loss: 0.4792 - accuracy: 0.8274 - val_loss: 0.4879 - val_accuracy: 0.8236\n",
      "Epoch 14/100\n",
      "193/193 [==============================] - 1s 7ms/step - loss: 0.4735 - accuracy: 0.8219 - val_loss: 0.4866 - val_accuracy: 0.8217\n",
      "Epoch 15/100\n",
      "193/193 [==============================] - 1s 8ms/step - loss: 0.4620 - accuracy: 0.8297 - val_loss: 0.4931 - val_accuracy: 0.8184\n",
      "Epoch 16/100\n",
      "193/193 [==============================] - 1s 7ms/step - loss: 0.4529 - accuracy: 0.8332 - val_loss: 0.4926 - val_accuracy: 0.8152\n",
      "Epoch 17/100\n",
      "193/193 [==============================] - 1s 7ms/step - loss: 0.4471 - accuracy: 0.8327 - val_loss: 0.4864 - val_accuracy: 0.8243\n",
      "Epoch 18/100\n",
      "193/193 [==============================] - 2s 8ms/step - loss: 0.4429 - accuracy: 0.8334 - val_loss: 0.4929 - val_accuracy: 0.8204\n",
      "Epoch 19/100\n",
      "193/193 [==============================] - 1s 7ms/step - loss: 0.4383 - accuracy: 0.8348 - val_loss: 0.4869 - val_accuracy: 0.8230\n",
      "Epoch 20/100\n",
      "193/193 [==============================] - 1s 7ms/step - loss: 0.4164 - accuracy: 0.8426 - val_loss: 0.4815 - val_accuracy: 0.8223\n",
      "Epoch 21/100\n",
      "193/193 [==============================] - 1s 6ms/step - loss: 0.4189 - accuracy: 0.8467 - val_loss: 0.4884 - val_accuracy: 0.8210\n",
      "Epoch 22/100\n",
      "193/193 [==============================] - 1s 7ms/step - loss: 0.4139 - accuracy: 0.8409 - val_loss: 0.4948 - val_accuracy: 0.8197\n",
      "Epoch 23/100\n",
      "193/193 [==============================] - 1s 7ms/step - loss: 0.4085 - accuracy: 0.8434 - val_loss: 0.5020 - val_accuracy: 0.8126\n",
      "Epoch 24/100\n",
      "193/193 [==============================] - 1s 7ms/step - loss: 0.3993 - accuracy: 0.8514 - val_loss: 0.4965 - val_accuracy: 0.8158\n",
      "Epoch 25/100\n",
      "193/193 [==============================] - 1s 7ms/step - loss: 0.3853 - accuracy: 0.8494 - val_loss: 0.5020 - val_accuracy: 0.8204\n",
      "Epoch 25: early stopping\n",
      "Epoch 1/100\n",
      "193/193 [==============================] - 3s 10ms/step - loss: 1.4817 - accuracy: 0.4616 - val_loss: 1.3969 - val_accuracy: 0.2134\n",
      "Epoch 2/100\n",
      "193/193 [==============================] - 2s 9ms/step - loss: 0.9080 - accuracy: 0.6567 - val_loss: 0.9852 - val_accuracy: 0.5739\n",
      "Epoch 3/100\n",
      "193/193 [==============================] - 1s 8ms/step - loss: 0.7109 - accuracy: 0.7388 - val_loss: 0.6019 - val_accuracy: 0.8113\n",
      "Epoch 4/100\n",
      "193/193 [==============================] - 1s 6ms/step - loss: 0.6316 - accuracy: 0.7742 - val_loss: 0.5304 - val_accuracy: 0.8074\n",
      "Epoch 5/100\n",
      "193/193 [==============================] - 1s 5ms/step - loss: 0.6010 - accuracy: 0.7906 - val_loss: 0.5061 - val_accuracy: 0.8217\n",
      "Epoch 6/100\n",
      "193/193 [==============================] - 1s 5ms/step - loss: 0.5644 - accuracy: 0.8024 - val_loss: 0.5010 - val_accuracy: 0.8268\n",
      "Epoch 7/100\n",
      "193/193 [==============================] - 1s 5ms/step - loss: 0.5414 - accuracy: 0.8073 - val_loss: 0.4997 - val_accuracy: 0.8204\n",
      "Epoch 8/100\n",
      "193/193 [==============================] - 1s 7ms/step - loss: 0.5204 - accuracy: 0.8087 - val_loss: 0.4973 - val_accuracy: 0.8158\n",
      "Epoch 9/100\n",
      "193/193 [==============================] - 1s 7ms/step - loss: 0.4912 - accuracy: 0.8284 - val_loss: 0.4931 - val_accuracy: 0.8275\n"
     ]
    },
    {
     "name": "stdout",
     "output_type": "stream",
     "text": [
      "Epoch 10/100\n",
      "193/193 [==============================] - 1s 6ms/step - loss: 0.4765 - accuracy: 0.8298 - val_loss: 0.5026 - val_accuracy: 0.8210\n",
      "Epoch 11/100\n",
      "193/193 [==============================] - 1s 7ms/step - loss: 0.4635 - accuracy: 0.8313 - val_loss: 0.5035 - val_accuracy: 0.8152\n",
      "Epoch 12/100\n",
      "193/193 [==============================] - 1s 8ms/step - loss: 0.4575 - accuracy: 0.8358 - val_loss: 0.5055 - val_accuracy: 0.8178\n",
      "Epoch 13/100\n",
      "193/193 [==============================] - 2s 9ms/step - loss: 0.4393 - accuracy: 0.8404 - val_loss: 0.5019 - val_accuracy: 0.8197\n",
      "Epoch 14/100\n",
      "193/193 [==============================] - 2s 9ms/step - loss: 0.4195 - accuracy: 0.8443 - val_loss: 0.5106 - val_accuracy: 0.8197\n",
      "Epoch 14: early stopping\n",
      "Epoch 1/100\n",
      "193/193 [==============================] - 2s 6ms/step - loss: 1.5223 - accuracy: 0.4340 - val_loss: 1.2586 - val_accuracy: 0.4118\n",
      "Epoch 2/100\n",
      "193/193 [==============================] - 1s 6ms/step - loss: 0.9268 - accuracy: 0.6434 - val_loss: 0.9393 - val_accuracy: 0.6829\n",
      "Epoch 3/100\n",
      "193/193 [==============================] - 1s 6ms/step - loss: 0.7347 - accuracy: 0.7320 - val_loss: 0.6098 - val_accuracy: 0.8093\n",
      "Epoch 4/100\n",
      "193/193 [==============================] - 1s 6ms/step - loss: 0.6407 - accuracy: 0.7687 - val_loss: 0.5299 - val_accuracy: 0.8256\n",
      "Epoch 5/100\n",
      "193/193 [==============================] - 1s 6ms/step - loss: 0.5885 - accuracy: 0.7876 - val_loss: 0.5103 - val_accuracy: 0.8294\n",
      "Epoch 6/100\n",
      "193/193 [==============================] - 1s 6ms/step - loss: 0.5368 - accuracy: 0.8068 - val_loss: 0.5075 - val_accuracy: 0.8249\n",
      "Epoch 7/100\n",
      "193/193 [==============================] - 1s 6ms/step - loss: 0.5222 - accuracy: 0.8073 - val_loss: 0.5085 - val_accuracy: 0.8230\n",
      "Epoch 8/100\n",
      "193/193 [==============================] - 1s 6ms/step - loss: 0.4981 - accuracy: 0.8256 - val_loss: 0.5082 - val_accuracy: 0.8268\n",
      "Epoch 9/100\n",
      "193/193 [==============================] - 1s 7ms/step - loss: 0.4748 - accuracy: 0.8298 - val_loss: 0.5093 - val_accuracy: 0.8210\n",
      "Epoch 10/100\n",
      "193/193 [==============================] - 1s 8ms/step - loss: 0.4538 - accuracy: 0.8292 - val_loss: 0.5169 - val_accuracy: 0.8236\n",
      "Epoch 11/100\n",
      "193/193 [==============================] - 1s 7ms/step - loss: 0.4348 - accuracy: 0.8387 - val_loss: 0.5237 - val_accuracy: 0.8171\n",
      "Epoch 11: early stopping\n",
      "Epoch 1/100\n",
      "193/193 [==============================] - 2s 6ms/step - loss: 1.5080 - accuracy: 0.4650 - val_loss: 1.2613 - val_accuracy: 0.3742\n",
      "Epoch 2/100\n",
      "193/193 [==============================] - 1s 5ms/step - loss: 0.8965 - accuracy: 0.6616 - val_loss: 0.8997 - val_accuracy: 0.7185\n",
      "Epoch 3/100\n",
      "193/193 [==============================] - 1s 5ms/step - loss: 0.7421 - accuracy: 0.7307 - val_loss: 0.6042 - val_accuracy: 0.8087\n",
      "Epoch 4/100\n",
      "193/193 [==============================] - 1s 6ms/step - loss: 0.6187 - accuracy: 0.7782 - val_loss: 0.5382 - val_accuracy: 0.8152\n",
      "Epoch 5/100\n",
      "193/193 [==============================] - 1s 6ms/step - loss: 0.5841 - accuracy: 0.7940 - val_loss: 0.5326 - val_accuracy: 0.8171\n",
      "Epoch 6/100\n",
      "193/193 [==============================] - 1s 7ms/step - loss: 0.5274 - accuracy: 0.8133 - val_loss: 0.5312 - val_accuracy: 0.8204\n",
      "Epoch 7/100\n",
      "193/193 [==============================] - 1s 7ms/step - loss: 0.5076 - accuracy: 0.8177 - val_loss: 0.5283 - val_accuracy: 0.8204\n",
      "Epoch 8/100\n",
      "193/193 [==============================] - 2s 8ms/step - loss: 0.4733 - accuracy: 0.8272 - val_loss: 0.5283 - val_accuracy: 0.8171\n",
      "Epoch 9/100\n",
      "193/193 [==============================] - 2s 9ms/step - loss: 0.4623 - accuracy: 0.8329 - val_loss: 0.5346 - val_accuracy: 0.8106\n",
      "Epoch 10/100\n",
      "193/193 [==============================] - 2s 9ms/step - loss: 0.4311 - accuracy: 0.8402 - val_loss: 0.5269 - val_accuracy: 0.8145\n",
      "Epoch 11/100\n",
      "193/193 [==============================] - 2s 9ms/step - loss: 0.4199 - accuracy: 0.8499 - val_loss: 0.5407 - val_accuracy: 0.8152\n",
      "Epoch 12/100\n",
      "193/193 [==============================] - 2s 9ms/step - loss: 0.4193 - accuracy: 0.8436 - val_loss: 0.5516 - val_accuracy: 0.8067\n",
      "Epoch 13/100\n",
      "193/193 [==============================] - 2s 9ms/step - loss: 0.3879 - accuracy: 0.8553 - val_loss: 0.5513 - val_accuracy: 0.8048\n",
      "Epoch 14/100\n",
      "193/193 [==============================] - 2s 9ms/step - loss: 0.3818 - accuracy: 0.8619 - val_loss: 0.5575 - val_accuracy: 0.8035\n",
      "Epoch 15/100\n",
      "193/193 [==============================] - 2s 9ms/step - loss: 0.3597 - accuracy: 0.8655 - val_loss: 0.5699 - val_accuracy: 0.7983\n",
      "Epoch 15: early stopping\n",
      "Epoch 1/100\n",
      "193/193 [==============================] - 3s 10ms/step - loss: 1.5624 - accuracy: 0.4396 - val_loss: 1.2644 - val_accuracy: 0.5259\n",
      "Epoch 2/100\n",
      "193/193 [==============================] - 1s 7ms/step - loss: 0.9234 - accuracy: 0.6559 - val_loss: 0.9046 - val_accuracy: 0.7918\n",
      "Epoch 3/100\n",
      "193/193 [==============================] - 2s 8ms/step - loss: 0.7044 - accuracy: 0.7422 - val_loss: 0.5878 - val_accuracy: 0.8080\n",
      "Epoch 4/100\n",
      "193/193 [==============================] - 2s 8ms/step - loss: 0.6160 - accuracy: 0.7751 - val_loss: 0.5242 - val_accuracy: 0.8217\n",
      "Epoch 5/100\n",
      "193/193 [==============================] - 2s 8ms/step - loss: 0.5490 - accuracy: 0.8058 - val_loss: 0.5243 - val_accuracy: 0.8178\n",
      "Epoch 6/100\n",
      "193/193 [==============================] - 1s 7ms/step - loss: 0.5220 - accuracy: 0.8136 - val_loss: 0.5229 - val_accuracy: 0.8132\n",
      "Epoch 7/100\n",
      "193/193 [==============================] - 1s 7ms/step - loss: 0.4857 - accuracy: 0.8202 - val_loss: 0.5314 - val_accuracy: 0.8113\n",
      "Epoch 8/100\n",
      "193/193 [==============================] - 1s 8ms/step - loss: 0.4477 - accuracy: 0.8366 - val_loss: 0.5362 - val_accuracy: 0.8087\n",
      "Epoch 9/100\n",
      "193/193 [==============================] - 2s 8ms/step - loss: 0.4251 - accuracy: 0.8465 - val_loss: 0.5446 - val_accuracy: 0.8042\n",
      "Epoch 10/100\n",
      "193/193 [==============================] - 2s 8ms/step - loss: 0.4279 - accuracy: 0.8383 - val_loss: 0.5382 - val_accuracy: 0.8048\n",
      "Epoch 11/100\n",
      "193/193 [==============================] - 1s 7ms/step - loss: 0.3998 - accuracy: 0.8491 - val_loss: 0.5605 - val_accuracy: 0.7983\n",
      "Epoch 11: early stopping\n",
      "Epoch 1/100\n",
      "193/193 [==============================] - 3s 11ms/step - loss: 1.5284 - accuracy: 0.4581 - val_loss: 1.2537 - val_accuracy: 0.3852\n",
      "Epoch 2/100\n",
      "193/193 [==============================] - 2s 8ms/step - loss: 0.9153 - accuracy: 0.6535 - val_loss: 0.9107 - val_accuracy: 0.6375\n",
      "Epoch 3/100\n",
      "193/193 [==============================] - 2s 8ms/step - loss: 0.7102 - accuracy: 0.7476 - val_loss: 0.6239 - val_accuracy: 0.7808\n",
      "Epoch 4/100\n",
      "193/193 [==============================] - 2s 8ms/step - loss: 0.6044 - accuracy: 0.7797 - val_loss: 0.5371 - val_accuracy: 0.8145\n",
      "Epoch 5/100\n",
      "193/193 [==============================] - 1s 5ms/step - loss: 0.5219 - accuracy: 0.8099 - val_loss: 0.5223 - val_accuracy: 0.8171\n",
      "Epoch 6/100\n",
      "193/193 [==============================] - 1s 5ms/step - loss: 0.4962 - accuracy: 0.8183 - val_loss: 0.5409 - val_accuracy: 0.8152\n",
      "Epoch 7/100\n",
      "193/193 [==============================] - 1s 5ms/step - loss: 0.4667 - accuracy: 0.8348 - val_loss: 0.5412 - val_accuracy: 0.8113\n",
      "Epoch 8/100\n",
      "193/193 [==============================] - 1s 6ms/step - loss: 0.4317 - accuracy: 0.8400 - val_loss: 0.5505 - val_accuracy: 0.8080\n",
      "Epoch 9/100\n",
      "193/193 [==============================] - 1s 7ms/step - loss: 0.4083 - accuracy: 0.8512 - val_loss: 0.5525 - val_accuracy: 0.8042\n",
      "Epoch 10/100\n",
      "193/193 [==============================] - 1s 7ms/step - loss: 0.3966 - accuracy: 0.8550 - val_loss: 0.5752 - val_accuracy: 0.8022\n",
      "Epoch 10: early stopping\n",
      "Epoch 1/100\n",
      "193/193 [==============================] - 3s 11ms/step - loss: 1.5187 - accuracy: 0.4311 - val_loss: 1.3001 - val_accuracy: 0.3346\n",
      "Epoch 2/100\n",
      "193/193 [==============================] - 1s 7ms/step - loss: 0.9165 - accuracy: 0.6522 - val_loss: 0.9853 - val_accuracy: 0.6239\n",
      "Epoch 3/100\n",
      "193/193 [==============================] - 2s 8ms/step - loss: 0.6961 - accuracy: 0.7471 - val_loss: 0.6254 - val_accuracy: 0.7957\n",
      "Epoch 4/100\n",
      "193/193 [==============================] - 1s 7ms/step - loss: 0.6013 - accuracy: 0.7862 - val_loss: 0.5328 - val_accuracy: 0.8158\n",
      "Epoch 5/100\n",
      "193/193 [==============================] - 1s 7ms/step - loss: 0.5285 - accuracy: 0.8134 - val_loss: 0.5311 - val_accuracy: 0.8100\n",
      "Epoch 6/100\n",
      "193/193 [==============================] - 2s 9ms/step - loss: 0.4858 - accuracy: 0.8316 - val_loss: 0.5316 - val_accuracy: 0.8165\n",
      "Epoch 7/100\n",
      "193/193 [==============================] - 2s 9ms/step - loss: 0.4560 - accuracy: 0.8400 - val_loss: 0.5396 - val_accuracy: 0.8158\n",
      "Epoch 8/100\n",
      "193/193 [==============================] - 1s 8ms/step - loss: 0.4159 - accuracy: 0.8451 - val_loss: 0.5548 - val_accuracy: 0.8067\n",
      "Epoch 9/100\n",
      "193/193 [==============================] - 2s 8ms/step - loss: 0.4085 - accuracy: 0.8522 - val_loss: 0.5721 - val_accuracy: 0.8048\n",
      "Epoch 10/100\n",
      "193/193 [==============================] - 2s 8ms/step - loss: 0.3735 - accuracy: 0.8634 - val_loss: 0.5935 - val_accuracy: 0.7977\n",
      "Epoch 10: early stopping\n",
      "Epoch 1/100\n",
      "193/193 [==============================] - 3s 11ms/step - loss: 1.5217 - accuracy: 0.4302 - val_loss: 1.2364 - val_accuracy: 0.4384\n",
      "Epoch 2/100\n",
      "193/193 [==============================] - 2s 8ms/step - loss: 0.8866 - accuracy: 0.6624 - val_loss: 0.9182 - val_accuracy: 0.6887\n",
      "Epoch 3/100\n",
      "193/193 [==============================] - 2s 8ms/step - loss: 0.6748 - accuracy: 0.7596 - val_loss: 0.6248 - val_accuracy: 0.7853\n",
      "Epoch 4/100\n",
      "193/193 [==============================] - 1s 8ms/step - loss: 0.5776 - accuracy: 0.7957 - val_loss: 0.5514 - val_accuracy: 0.8035\n",
      "Epoch 5/100\n",
      "193/193 [==============================] - 2s 9ms/step - loss: 0.5043 - accuracy: 0.8194 - val_loss: 0.5615 - val_accuracy: 0.8003\n",
      "Epoch 6/100\n",
      "193/193 [==============================] - 2s 9ms/step - loss: 0.4556 - accuracy: 0.8355 - val_loss: 0.5747 - val_accuracy: 0.7990\n",
      "Epoch 7/100\n",
      "193/193 [==============================] - 1s 7ms/step - loss: 0.4344 - accuracy: 0.8454 - val_loss: 0.5902 - val_accuracy: 0.7957\n",
      "Epoch 8/100\n",
      "193/193 [==============================] - 1s 7ms/step - loss: 0.4124 - accuracy: 0.8558 - val_loss: 0.5907 - val_accuracy: 0.7931\n",
      "Epoch 9/100\n",
      "193/193 [==============================] - 1s 7ms/step - loss: 0.3928 - accuracy: 0.8615 - val_loss: 0.6217 - val_accuracy: 0.7815\n",
      "Epoch 9: early stopping\n",
      "Epoch 1/100\n",
      "193/193 [==============================] - 3s 11ms/step - loss: 1.5471 - accuracy: 0.4205 - val_loss: 1.2819 - val_accuracy: 0.3482\n",
      "Epoch 2/100\n",
      "193/193 [==============================] - 2s 9ms/step - loss: 0.8896 - accuracy: 0.6622 - val_loss: 0.9739 - val_accuracy: 0.6835\n",
      "Epoch 3/100\n",
      "193/193 [==============================] - 2s 9ms/step - loss: 0.6502 - accuracy: 0.7623 - val_loss: 0.6313 - val_accuracy: 0.7886\n",
      "Epoch 4/100\n",
      "193/193 [==============================] - 2s 9ms/step - loss: 0.5693 - accuracy: 0.8008 - val_loss: 0.5696 - val_accuracy: 0.7925\n",
      "Epoch 5/100\n",
      "193/193 [==============================] - 1s 5ms/step - loss: 0.5034 - accuracy: 0.8204 - val_loss: 0.5750 - val_accuracy: 0.7951\n",
      "Epoch 6/100\n",
      "193/193 [==============================] - 1s 5ms/step - loss: 0.4483 - accuracy: 0.8387 - val_loss: 0.5939 - val_accuracy: 0.7815\n",
      "Epoch 7/100\n",
      "193/193 [==============================] - 1s 5ms/step - loss: 0.4232 - accuracy: 0.8532 - val_loss: 0.6080 - val_accuracy: 0.7743\n",
      "Epoch 8/100\n",
      "193/193 [==============================] - 1s 5ms/step - loss: 0.4003 - accuracy: 0.8556 - val_loss: 0.6238 - val_accuracy: 0.7763\n",
      "Epoch 9/100\n",
      "193/193 [==============================] - 1s 6ms/step - loss: 0.3724 - accuracy: 0.8636 - val_loss: 0.6405 - val_accuracy: 0.7756\n",
      "Epoch 9: early stopping\n"
     ]
    }
   ],
   "source": [
    "losses = []\n",
    "accs = []\n",
    "\n",
    "# look at LSA vals from 100-1000, incrementing by 100\n",
    "for n in range(100, 1001, 100):\n",
    "    # LSA\n",
    "    svd = TruncatedSVD(n_components=n, random_state=random_state)\n",
    "\n",
    "    # SVD transform the input data\n",
    "    X_train_lsa = svd.fit_transform(X_train)\n",
    "    X_test_lsa = svd.transform(X_test)\n",
    "    \n",
    "    # create the KerasClassifier, use build_model to create our model\n",
    "    nn = KerasClassifier(model=build_model(X_train_lsa.shape[1], [100, 100]), epochs=100, batch_size=32, optimizer=Adam(),\n",
    "                         callbacks=[early_stopping], validation_split=0.2, verbose=1, loss='sparse_categorical_crossentropy')\n",
    "    \n",
    "    # fit nn\n",
    "    nn.fit(X_train_lsa, y_train)\n",
    "    \n",
    "    # append val_loss and val_acc from last epoch\n",
    "    losses.append(nn.history_['val_loss'][-1])\n",
    "    accs.append(nn.history_['val_accuracy'][-1])\n",
    "    \n",
    "    # free up GPU memory\n",
    "    backend.clear_session()\n",
    "    \n",
    "# further split the training data into training and validation sets\n",
    "# X_train, X_val, y_train, y_val = train_test_split(X_train, y_train, test_size=0.2, random_state=random_state)"
   ]
  },
  {
   "cell_type": "code",
   "execution_count": 140,
   "id": "dc258532",
   "metadata": {
    "ExecuteTime": {
     "end_time": "2023-10-26T16:28:25.421006Z",
     "start_time": "2023-10-26T16:28:25.202807Z"
    }
   },
   "outputs": [
    {
     "data": {
      "image/png": "[encoded data removed]",
      "text/plain": [
       "<Figure size 1000x500 with 1 Axes>"
      ]
     },
     "metadata": {},
     "output_type": "display_data"
    }
   ],
   "source": [
    "x = list(range(100, 1001, 100))\n",
    "\n",
    "fig, ax = plt.subplots(figsize=(10,5), facecolor='#f3f3f3')\n",
    "ax.set_facecolor('#f3f3f3')\n",
    "\n",
    "# plt.title('')\n",
    "plt.xlabel('LSA number of components', fontsize=16)\n",
    "\n",
    "sns.lineplot(x=x, y=losses, label='val loss', color='#fa605a', ax=ax)\n",
    "sns.lineplot(x=x, y=accs, label='val accuracy', color='#009b9f', ax=ax)\n",
    "\n",
    "plt.savefig('LSA', transparent=True);"
   ]
  },
  {
   "cell_type": "code",
   "execution_count": null,
   "id": "5eb5a9dc",
   "metadata": {},
   "outputs": [],
   "source": []
  },
  {
   "cell_type": "code",
   "execution_count": null,
   "id": "7d371064",
   "metadata": {},
   "outputs": [],
   "source": []
  },
  {
   "cell_type": "code",
   "execution_count": null,
   "id": "8bcbee30",
   "metadata": {},
   "outputs": [],
   "source": []
  },
  {
   "cell_type": "code",
   "execution_count": null,
   "id": "15362fac",
   "metadata": {},
   "outputs": [],
   "source": []
  },
  {
   "cell_type": "code",
   "execution_count": null,
   "id": "7f4f56bf",
   "metadata": {},
   "outputs": [],
   "source": []
  },
  {
   "cell_type": "code",
   "execution_count": null,
   "id": "ba0e9169",
   "metadata": {},
   "outputs": [],
   "source": []
  },
  {
   "cell_type": "code",
   "execution_count": null,
   "id": "fa419d27",
   "metadata": {},
   "outputs": [],
   "source": []
  },
  {
   "cell_type": "code",
   "execution_count": null,
   "id": "7f7fafd2",
   "metadata": {},
   "outputs": [],
   "source": []
  }
 ],
 "metadata": {
  "kernelspec": {
   "display_name": "tf-env",
   "language": "python",
   "name": "tf-env"
  },
  "language_info": {
   "codemirror_mode": {
    "name": "ipython",
    "version": 3
   },
   "file_extension": ".py",
   "mimetype": "text/x-python",
   "name": "python",
   "nbconvert_exporter": "python",
   "pygments_lexer": "ipython3",
   "version": "3.10.12"
  },
  "latex_envs": {
   "LaTeX_envs_menu_present": true,
   "autoclose": false,
   "autocomplete": true,
   "bibliofile": "biblio.bib",
   "cite_by": "apalike",
   "current_citInitial": 1,
   "eqLabelWithNumbers": true,
   "eqNumInitial": 1,
   "hotkeys": {
    "equation": "Ctrl-E",
    "itemize": "Ctrl-I"
   },
   "labels_anchors": false,
   "latex_user_defs": false,
   "report_style_numbering": false,
   "user_envs_cfg": false
  },
  "toc": {
   "base_numbering": 1,
   "nav_menu": {},
   "number_sections": true,
   "sideBar": true,
   "skip_h1_title": false,
   "title_cell": "Table of Contents",
   "title_sidebar": "Contents",
   "toc_cell": false,
   "toc_position": {},
   "toc_section_display": true,
   "toc_window_display": false
  }
 },
 "nbformat": 4,
 "nbformat_minor": 5
}
